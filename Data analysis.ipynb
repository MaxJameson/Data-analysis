{
  "nbformat": 4,
  "nbformat_minor": 0,
  "metadata": {
    "colab": {
      "provenance": [],
      "collapsed_sections": [
        "M2zdSF9xgAFP",
        "UZ4i8pt4axy9",
        "OQLH4wa0a7ST",
        "kQk68PLDmX3b",
        "k3-QyDlBmfbL",
        "hoWYcZzJOOEM",
        "gg_31puGOYUO",
        "9iE6v_lgOTpE",
        "MpaRvYL6X-xf",
        "-Ky9leu8uBru",
        "uTD49oDVvZVy",
        "Sq-QDqgqID5B",
        "g_vBU1tjXS-X",
        "SSpSZJW7tT-W",
        "zYHvmVKScv74",
        "kiOLgL3DCP0O",
        "QdV42Qw7zPz9",
        "wBXtS1nZzgGJ",
        "p0_aETGA7q6Y",
        "QaorrudfEreU",
        "Qwz1JnB5vAyk",
        "2gS2X3owEuXT"
      ]
    },
    "kernelspec": {
      "name": "python3",
      "display_name": "Python 3"
    },
    "language_info": {
      "name": "python"
    }
  },
  "cells": [
    {
      "cell_type": "markdown",
      "source": [
        "# Environment set up"
      ],
      "metadata": {
        "id": "M2zdSF9xgAFP"
      }
    },
    {
      "cell_type": "markdown",
      "source": [
        "Install pyspark"
      ],
      "metadata": {
        "id": "BoP0kkfo-qs3"
      }
    },
    {
      "cell_type": "code",
      "execution_count": 1,
      "metadata": {
        "id": "Lnaddi-x-fe8",
        "colab": {
          "base_uri": "https://localhost:8080/"
        },
        "outputId": "f5428d0c-75a6-4d01-cc5a-7fb8f8ca1fdb"
      },
      "outputs": [
        {
          "output_type": "stream",
          "name": "stdout",
          "text": [
            "--2023-01-18 12:45:13--  https://bin.equinox.io/c/4VmDzA7iaHb/ngrok-stable-linux-amd64.zip\n",
            "Resolving bin.equinox.io (bin.equinox.io)... 52.202.168.65, 18.205.222.128, 54.161.241.46, ...\n",
            "Connecting to bin.equinox.io (bin.equinox.io)|52.202.168.65|:443... connected.\n",
            "HTTP request sent, awaiting response... 200 OK\n",
            "Length: 13832437 (13M) [application/octet-stream]\n",
            "Saving to: ‘ngrok-stable-linux-amd64.zip’\n",
            "\n",
            "ngrok-stable-linux- 100%[===================>]  13.19M  16.5MB/s    in 0.8s    \n",
            "\n",
            "2023-01-18 12:45:14 (16.5 MB/s) - ‘ngrok-stable-linux-amd64.zip’ saved [13832437/13832437]\n",
            "\n",
            "Archive:  ngrok-stable-linux-amd64.zip\n",
            "  inflating: ngrok                   \n"
          ]
        }
      ],
      "source": [
        "# get spark up and running (do this once when you restart a colab session or it times out)\n",
        "\n",
        "# first, install the jdk\n",
        "!apt-get install openjdk-8-jdk-headless -qq > /dev/null\n",
        "# get spark itself\n",
        "!wget -q http://archive.apache.org/dist/spark/spark-3.1.1/spark-3.1.1-bin-hadoop3.2.tgz\n",
        "\n",
        "# unzip spark\n",
        "!tar xf spark-3.1.1-bin-hadoop3.2.tgz\n",
        "# install findspark so colab notebook sees it\n",
        "!pip install -q findspark\n",
        "\n",
        "# and setup env variable so pyspark works\n",
        "import os\n",
        "os.environ[\"JAVA_HOME\"] = \"/usr/lib/jvm/java-8-openjdk-amd64\"\n",
        "os.environ[\"SPARK_HOME\"] = \"/content/spark-3.1.1-bin-hadoop3.2\"\n",
        "\n",
        "# for using spark UI in colab... this allows tunnel to the UI\n",
        "!wget https://bin.equinox.io/c/4VmDzA7iaHb/ngrok-stable-linux-amd64.zip\n",
        "!unzip ngrok-stable-linux-amd64.zip"
      ]
    },
    {
      "cell_type": "code",
      "source": [
        "# Now spark is installed with correct env paths.. so use findspark to install it in colab\n",
        "import findspark\n",
        "findspark.init()\n",
        "\n",
        "from pyspark import SparkContext, SparkConf\n",
        "# start pyspark session\n",
        "from pyspark.sql import SparkSession\n",
        "\n",
        "spark = SparkSession.builder\\\n",
        "        .master(\"local\")\\\n",
        "        .appName(\"Colab\")\\\n",
        "        .config('spark.ui.port', '4050')\\\n",
        "        .getOrCreate()\n",
        "\n",
        "sparkContext = spark.sparkContext\n",
        "# make the spark UI work in colab\n",
        "\n",
        "get_ipython().system_raw('./ngrok http 4050 &')\n",
        "!curl -s http://localhost:4040/api/tunnels\n",
        "spark"
      ],
      "metadata": {
        "id": "vdyxY5KW_Kgi",
        "colab": {
          "base_uri": "https://localhost:8080/",
          "height": 0
        },
        "outputId": "122da033-74c6-4a55-fbca-9c7a53f2fb60"
      },
      "execution_count": 2,
      "outputs": [
        {
          "output_type": "stream",
          "name": "stdout",
          "text": [
            "{\"tunnels\":[],\"uri\":\"/api/tunnels\"}\n"
          ]
        },
        {
          "output_type": "execute_result",
          "data": {
            "text/plain": [
              "<pyspark.sql.session.SparkSession at 0x7fdc660e10a0>"
            ],
            "text/html": [
              "\n",
              "            <div>\n",
              "                <p><b>SparkSession - in-memory</b></p>\n",
              "                \n",
              "        <div>\n",
              "            <p><b>SparkContext</b></p>\n",
              "\n",
              "            <p><a href=\"http://6d6d303fdf41:4050\">Spark UI</a></p>\n",
              "\n",
              "            <dl>\n",
              "              <dt>Version</dt>\n",
              "                <dd><code>v3.1.1</code></dd>\n",
              "              <dt>Master</dt>\n",
              "                <dd><code>local</code></dd>\n",
              "              <dt>AppName</dt>\n",
              "                <dd><code>Colab</code></dd>\n",
              "            </dl>\n",
              "        </div>\n",
              "        \n",
              "            </div>\n",
              "        "
            ]
          },
          "metadata": {},
          "execution_count": 2
        }
      ]
    },
    {
      "cell_type": "code",
      "source": [
        "# imports pandas and pyspark libaries\n",
        "from pyspark.sql.functions import col, isnan, when, count, mean\n",
        "import pandas\n",
        "# importa seaborn library for creating a heatmap\n",
        "import seaborn as sea"
      ],
      "metadata": {
        "id": "wW9FeuJkIbVz"
      },
      "execution_count": 3,
      "outputs": []
    },
    {
      "cell_type": "markdown",
      "source": [
        "# Task 1 - Nuclear dataset"
      ],
      "metadata": {
        "id": "YzA3OTUKgFoC"
      }
    },
    {
      "cell_type": "markdown",
      "source": [
        "## 1.1 Handling missing data"
      ],
      "metadata": {
        "id": "da9CosbTgRXl"
      }
    },
    {
      "cell_type": "markdown",
      "source": [
        "### Load the data"
      ],
      "metadata": {
        "id": "UZ4i8pt4axy9"
      }
    },
    {
      "cell_type": "code",
      "source": [
        "# load the dataset\n",
        "df = spark.read.csv(\"nuclear_plants_small_dataset.csv\", header = True,  inferSchema = True)\n",
        "df.printSchema()"
      ],
      "metadata": {
        "id": "GPg75Q7OFkXc",
        "colab": {
          "base_uri": "https://localhost:8080/"
        },
        "outputId": "8b4096d7-df0d-4b09-d3a7-e75288221f09"
      },
      "execution_count": 4,
      "outputs": [
        {
          "output_type": "stream",
          "name": "stdout",
          "text": [
            "root\n",
            " |-- Status: string (nullable = true)\n",
            " |-- Power_range_sensor_1: double (nullable = true)\n",
            " |-- Power_range_sensor_2: double (nullable = true)\n",
            " |-- Power_range_sensor_3 : double (nullable = true)\n",
            " |-- Power_range_sensor_4: double (nullable = true)\n",
            " |-- Pressure _sensor_1: double (nullable = true)\n",
            " |-- Pressure _sensor_2: double (nullable = true)\n",
            " |-- Pressure _sensor_3: double (nullable = true)\n",
            " |-- Pressure _sensor_4: double (nullable = true)\n",
            " |-- Vibration_sensor_1: double (nullable = true)\n",
            " |-- Vibration_sensor_2: double (nullable = true)\n",
            " |-- Vibration_sensor_3: double (nullable = true)\n",
            " |-- Vibration_sensor_4: double (nullable = true)\n",
            "\n"
          ]
        }
      ]
    },
    {
      "cell_type": "code",
      "source": [
        "df.show()"
      ],
      "metadata": {
        "id": "44p751GbGW07",
        "colab": {
          "base_uri": "https://localhost:8080/"
        },
        "outputId": "31ec3734-fa6d-4963-de69-b0aedba54be6"
      },
      "execution_count": 5,
      "outputs": [
        {
          "output_type": "stream",
          "name": "stdout",
          "text": [
            "+------+--------------------+--------------------+---------------------+--------------------+------------------+------------------+------------------+------------------+------------------+------------------+------------------+------------------+\n",
            "|Status|Power_range_sensor_1|Power_range_sensor_2|Power_range_sensor_3 |Power_range_sensor_4|Pressure _sensor_1|Pressure _sensor_2|Pressure _sensor_3|Pressure _sensor_4|Vibration_sensor_1|Vibration_sensor_2|Vibration_sensor_3|Vibration_sensor_4|\n",
            "+------+--------------------+--------------------+---------------------+--------------------+------------------+------------------+------------------+------------------+------------------+------------------+------------------+------------------+\n",
            "|Normal|              4.5044|              0.7443|                 6.34|              1.9052|           29.5315|            0.8647|            2.2044|             6.048|           14.4659|            21.648|           15.3429|            1.2186|\n",
            "|Normal|              4.4284|              0.9073|               5.6433|              1.6232|           27.5032|            1.4704|            1.9929|            5.9856|           20.8356|            0.0646|           14.8813|            7.3483|\n",
            "|Normal|              4.5291|              1.0199|                6.113|              1.0565|           26.4271|            1.9247|             1.942|            6.7162|            5.3358|           11.0779|           25.0914|            9.2408|\n",
            "|Normal|              5.1727|              1.0007|               7.8589|              0.2765|           25.1576|             2.609|            2.9234|            6.7485|            1.9017|            1.8463|            28.664|            4.0157|\n",
            "|Normal|              5.2258|              0.6125|               7.9504|              0.1547|           24.0765|            3.2113|            4.4563|            5.8411|            0.5077|              9.37|           34.8122|           13.4966|\n",
            "|Normal|              4.8834|              0.5786|               5.6021|              0.5942|           21.0365|            2.6275|            4.3996|            5.3487|            3.6465|            9.3793|           36.2431|            11.124|\n",
            "|Normal|              5.7422|              0.8862|               5.1013|              0.9402|           15.5171|              2.92|            2.7061|            5.0366|            9.1854|            9.1116|           27.3162|            2.8526|\n",
            "|Normal|              6.5076|              0.5438|                7.153|              0.6711|           11.1481|            4.2967|            3.5731|            4.6123|           14.7705|            8.0038|           24.9714|            2.1417|\n",
            "|Normal|               5.625|              0.0403|               7.7087|              0.3214|            8.7975|            2.3293|             4.788|             5.203|            4.3388|            2.4187|           20.9187|            2.1233|\n",
            "|Normal|              4.9942|              0.4092|               6.2604|              0.6931|             6.189|            0.1537|            2.4934|            5.6573|            9.8132|           13.3581|           23.5036|            0.7478|\n",
            "|Normal|              5.9079|              0.9229|               5.3613|              0.3516|            4.0913|            1.1409|            1.4172|            4.4551|            8.1422|            9.8039|           20.7987|            0.1108|\n",
            "|Normal|              6.4215|              0.5978|               5.5765|              1.1847|            1.3588|            2.2807|            2.8529|            4.5002|             0.997|            8.7331|           27.2793|             2.114|\n",
            "|Normal|              5.9253|              0.2161|               6.2439|              0.8835|            4.0169|            1.3687|            3.9973|            5.3891|           18.1585|           14.4843|           25.4514|            5.9267|\n",
            "|Normal|              5.5783|              0.6262|               6.3556|              0.6747|            9.9827|            1.3455|            5.7394|            4.1904|           16.6814|           16.8661|           23.3743|            2.6033|\n",
            "|Normal|               5.495|              0.4971|               5.2286|              1.1902|           14.9418|            1.6808|            6.9821|            2.7535|              11.0|           16.3399|             7.136|            6.4898|\n",
            "|Normal|              5.6332|              0.5182|               4.3826|              1.8375|           19.1719|            2.3223|             6.841|            3.5384|           13.7643|            20.014|            4.0804|           20.5402|\n",
            "|Normal|              5.8438|              1.1902|               5.1022|              2.0297|           20.4563|            3.9257|            9.0478|            3.8586|           12.3057|           17.4384|           29.7256|           21.8234|\n",
            "|Normal|              5.4053|              1.8027|               5.9399|              1.5262|           18.5719|             3.669|           11.0384|            3.5604|           10.6625|           10.4963|           24.8606|           16.2476|\n",
            "|Normal|              5.2075|              1.4804|               5.8466|              1.1105|           16.7172|            2.6032|            8.9125|            4.2609|           20.7064|             7.893|            7.0806|           24.1498|\n",
            "|Normal|              6.0489|              0.9576|               5.3467|              1.5335|           15.4675|            3.7974|            7.7415|            4.0424|           23.3928|            3.3972|             17.54|           27.5655|\n",
            "+------+--------------------+--------------------+---------------------+--------------------+------------------+------------------+------------------+------------------+------------------+------------------+------------------+------------------+\n",
            "only showing top 20 rows\n",
            "\n"
          ]
        }
      ]
    },
    {
      "cell_type": "code",
      "source": [
        "# stores the total number of enrties in the dataset\n",
        "totalEntries = df.count()\n",
        "print(totalEntries)"
      ],
      "metadata": {
        "id": "tGzSAS5abNia",
        "colab": {
          "base_uri": "https://localhost:8080/"
        },
        "outputId": "8c841cab-23d7-43ab-95bf-bc285a5ee2a1"
      },
      "execution_count": 6,
      "outputs": [
        {
          "output_type": "stream",
          "name": "stdout",
          "text": [
            "996\n"
          ]
        }
      ]
    },
    {
      "cell_type": "markdown",
      "source": [
        "### Find missing or incorrect data"
      ],
      "metadata": {
        "id": "OQLH4wa0a7ST"
      }
    },
    {
      "cell_type": "markdown",
      "source": [
        "Organising catagorical data"
      ],
      "metadata": {
        "id": "KpkvLrk7fxaQ"
      }
    },
    {
      "cell_type": "code",
      "source": [
        "# checks for catagories with the same names that may contain error\n",
        "catdf = df.groupBy(\"Status\").count()\n",
        "catdf.show()"
      ],
      "metadata": {
        "id": "S7KHrkQkf0dM",
        "colab": {
          "base_uri": "https://localhost:8080/"
        },
        "outputId": "417185b3-0e81-4204-bbac-45193121e090"
      },
      "execution_count": 7,
      "outputs": [
        {
          "output_type": "stream",
          "name": "stdout",
          "text": [
            "+--------+-----+\n",
            "|  Status|count|\n",
            "+--------+-----+\n",
            "|Abnormal|  498|\n",
            "|  Normal|  498|\n",
            "+--------+-----+\n",
            "\n"
          ]
        }
      ]
    },
    {
      "cell_type": "markdown",
      "source": [
        "Find duplicates"
      ],
      "metadata": {
        "id": "yVV7p8R_3iNZ"
      }
    },
    {
      "cell_type": "code",
      "source": [
        "import pyspark.sql.functions as f\n",
        "\n",
        "# searches for duplicate records\n",
        "dupdf = df.join(df.groupBy(df.columns).agg((f.count(\"*\")>1).cast(\"int\").alias(\"Duplicate_indicator\")),on=df.columns,how=\"inner\")\n",
        "\n",
        "# counts duplicate records\n",
        "dupes = dupdf.where(dupdf.Duplicate_indicator == \"1\").count()\n",
        "\n",
        "# displays amount of duplicate records\n",
        "print(\"There are\",dupes, \"duplicate rows\")"
      ],
      "metadata": {
        "id": "vuEZnt6Y3jya",
        "colab": {
          "base_uri": "https://localhost:8080/"
        },
        "outputId": "613f3770-8b09-4dec-b103-5fdae4b4a47f"
      },
      "execution_count": 8,
      "outputs": [
        {
          "output_type": "stream",
          "name": "stdout",
          "text": [
            "There are 0 duplicate rows\n"
          ]
        }
      ]
    },
    {
      "cell_type": "markdown",
      "source": [
        "Find Null values"
      ],
      "metadata": {
        "id": "zeOiklGJiPhc"
      }
    },
    {
      "cell_type": "code",
      "source": [
        "# checks each coloum and counts any null values\n",
        "nulldf = df.select([count(when(isnan(c), c)).alias(c) for c in df.columns]).show()\n",
        "\n"
      ],
      "metadata": {
        "id": "ygDcZX3EiSLC",
        "colab": {
          "base_uri": "https://localhost:8080/"
        },
        "outputId": "4f3cb227-8aa1-49ab-dbe7-10fcb68544bc"
      },
      "execution_count": 9,
      "outputs": [
        {
          "output_type": "stream",
          "name": "stdout",
          "text": [
            "+------+--------------------+--------------------+---------------------+--------------------+------------------+------------------+------------------+------------------+------------------+------------------+------------------+------------------+\n",
            "|Status|Power_range_sensor_1|Power_range_sensor_2|Power_range_sensor_3 |Power_range_sensor_4|Pressure _sensor_1|Pressure _sensor_2|Pressure _sensor_3|Pressure _sensor_4|Vibration_sensor_1|Vibration_sensor_2|Vibration_sensor_3|Vibration_sensor_4|\n",
            "+------+--------------------+--------------------+---------------------+--------------------+------------------+------------------+------------------+------------------+------------------+------------------+------------------+------------------+\n",
            "|     0|                   0|                   0|                    0|                   0|                 0|                 0|                 0|                 0|                 0|                 0|                 0|                 0|\n",
            "+------+--------------------+--------------------+---------------------+--------------------+------------------+------------------+------------------+------------------+------------------+------------------+------------------+------------------+\n",
            "\n"
          ]
        }
      ]
    },
    {
      "cell_type": "markdown",
      "source": [
        "## 1.2 Summary statistics"
      ],
      "metadata": {
        "id": "kQk68PLDmX3b"
      }
    },
    {
      "cell_type": "markdown",
      "source": [
        "### Split the data"
      ],
      "metadata": {
        "id": "k3-QyDlBmfbL"
      }
    },
    {
      "cell_type": "code",
      "source": [
        "# creates a dataframe where status is normal\n",
        "normaldf = df.where(df.Status == \"Normal\")\n",
        "normaldf.show()"
      ],
      "metadata": {
        "id": "gfAVdb9emj4p",
        "colab": {
          "base_uri": "https://localhost:8080/"
        },
        "outputId": "0f5a56b7-8c04-420f-87c5-ac2d065bf3e7"
      },
      "execution_count": 10,
      "outputs": [
        {
          "output_type": "stream",
          "name": "stdout",
          "text": [
            "+------+--------------------+--------------------+---------------------+--------------------+------------------+------------------+------------------+------------------+------------------+------------------+------------------+------------------+\n",
            "|Status|Power_range_sensor_1|Power_range_sensor_2|Power_range_sensor_3 |Power_range_sensor_4|Pressure _sensor_1|Pressure _sensor_2|Pressure _sensor_3|Pressure _sensor_4|Vibration_sensor_1|Vibration_sensor_2|Vibration_sensor_3|Vibration_sensor_4|\n",
            "+------+--------------------+--------------------+---------------------+--------------------+------------------+------------------+------------------+------------------+------------------+------------------+------------------+------------------+\n",
            "|Normal|              4.5044|              0.7443|                 6.34|              1.9052|           29.5315|            0.8647|            2.2044|             6.048|           14.4659|            21.648|           15.3429|            1.2186|\n",
            "|Normal|              4.4284|              0.9073|               5.6433|              1.6232|           27.5032|            1.4704|            1.9929|            5.9856|           20.8356|            0.0646|           14.8813|            7.3483|\n",
            "|Normal|              4.5291|              1.0199|                6.113|              1.0565|           26.4271|            1.9247|             1.942|            6.7162|            5.3358|           11.0779|           25.0914|            9.2408|\n",
            "|Normal|              5.1727|              1.0007|               7.8589|              0.2765|           25.1576|             2.609|            2.9234|            6.7485|            1.9017|            1.8463|            28.664|            4.0157|\n",
            "|Normal|              5.2258|              0.6125|               7.9504|              0.1547|           24.0765|            3.2113|            4.4563|            5.8411|            0.5077|              9.37|           34.8122|           13.4966|\n",
            "|Normal|              4.8834|              0.5786|               5.6021|              0.5942|           21.0365|            2.6275|            4.3996|            5.3487|            3.6465|            9.3793|           36.2431|            11.124|\n",
            "|Normal|              5.7422|              0.8862|               5.1013|              0.9402|           15.5171|              2.92|            2.7061|            5.0366|            9.1854|            9.1116|           27.3162|            2.8526|\n",
            "|Normal|              6.5076|              0.5438|                7.153|              0.6711|           11.1481|            4.2967|            3.5731|            4.6123|           14.7705|            8.0038|           24.9714|            2.1417|\n",
            "|Normal|               5.625|              0.0403|               7.7087|              0.3214|            8.7975|            2.3293|             4.788|             5.203|            4.3388|            2.4187|           20.9187|            2.1233|\n",
            "|Normal|              4.9942|              0.4092|               6.2604|              0.6931|             6.189|            0.1537|            2.4934|            5.6573|            9.8132|           13.3581|           23.5036|            0.7478|\n",
            "|Normal|              5.9079|              0.9229|               5.3613|              0.3516|            4.0913|            1.1409|            1.4172|            4.4551|            8.1422|            9.8039|           20.7987|            0.1108|\n",
            "|Normal|              6.4215|              0.5978|               5.5765|              1.1847|            1.3588|            2.2807|            2.8529|            4.5002|             0.997|            8.7331|           27.2793|             2.114|\n",
            "|Normal|              5.9253|              0.2161|               6.2439|              0.8835|            4.0169|            1.3687|            3.9973|            5.3891|           18.1585|           14.4843|           25.4514|            5.9267|\n",
            "|Normal|              5.5783|              0.6262|               6.3556|              0.6747|            9.9827|            1.3455|            5.7394|            4.1904|           16.6814|           16.8661|           23.3743|            2.6033|\n",
            "|Normal|               5.495|              0.4971|               5.2286|              1.1902|           14.9418|            1.6808|            6.9821|            2.7535|              11.0|           16.3399|             7.136|            6.4898|\n",
            "|Normal|              5.6332|              0.5182|               4.3826|              1.8375|           19.1719|            2.3223|             6.841|            3.5384|           13.7643|            20.014|            4.0804|           20.5402|\n",
            "|Normal|              5.8438|              1.1902|               5.1022|              2.0297|           20.4563|            3.9257|            9.0478|            3.8586|           12.3057|           17.4384|           29.7256|           21.8234|\n",
            "|Normal|              5.4053|              1.8027|               5.9399|              1.5262|           18.5719|             3.669|           11.0384|            3.5604|           10.6625|           10.4963|           24.8606|           16.2476|\n",
            "|Normal|              5.2075|              1.4804|               5.8466|              1.1105|           16.7172|            2.6032|            8.9125|            4.2609|           20.7064|             7.893|            7.0806|           24.1498|\n",
            "|Normal|              6.0489|              0.9576|               5.3467|              1.5335|           15.4675|            3.7974|            7.7415|            4.0424|           23.3928|            3.3972|             17.54|           27.5655|\n",
            "+------+--------------------+--------------------+---------------------+--------------------+------------------+------------------+------------------+------------------+------------------+------------------+------------------+------------------+\n",
            "only showing top 20 rows\n",
            "\n"
          ]
        }
      ]
    },
    {
      "cell_type": "code",
      "source": [
        "# creates a dataframe where status is normal\n",
        "abnormaldf = df.where(df.Status == \"Abnormal\")\n",
        "abnormaldf.show()"
      ],
      "metadata": {
        "id": "lLPpycITnwUX",
        "colab": {
          "base_uri": "https://localhost:8080/"
        },
        "outputId": "d0cff664-4bcf-478b-f736-b1af5bf524fe"
      },
      "execution_count": 11,
      "outputs": [
        {
          "output_type": "stream",
          "name": "stdout",
          "text": [
            "+--------+--------------------+--------------------+---------------------+--------------------+------------------+------------------+------------------+------------------+------------------+------------------+------------------+------------------+\n",
            "|  Status|Power_range_sensor_1|Power_range_sensor_2|Power_range_sensor_3 |Power_range_sensor_4|Pressure _sensor_1|Pressure _sensor_2|Pressure _sensor_3|Pressure _sensor_4|Vibration_sensor_1|Vibration_sensor_2|Vibration_sensor_3|Vibration_sensor_4|\n",
            "+--------+--------------------+--------------------+---------------------+--------------------+------------------+------------------+------------------+------------------+------------------+------------------+------------------+------------------+\n",
            "|Abnormal|              8.4467|              5.8667|               9.1736|             11.6904|            1.1803|            1.4415|            4.3256|            6.4249|            8.3453|           17.5954|           14.1982|           16.2568|\n",
            "|Abnormal|              7.7426|              5.7504|               9.4666|             11.3361|            2.0382|            1.2612|            6.1856|            6.8098|            8.9823|           18.3339|            7.7637|           15.8044|\n",
            "|Abnormal|              7.7426|              5.6149|              10.2393|             11.2692|            5.2864|            1.5143|            6.7682|            6.3428|            7.4222|           10.9209|            1.0247|           26.4669|\n",
            "|Abnormal|              7.3059|              5.7349|              10.2228|             11.4734|            9.4818|            1.8207|            6.8006|            5.5452|            7.2652|            10.884|           20.5033|           16.3306|\n",
            "|Abnormal|               5.874|              5.9592|               9.1791|             11.1758|           10.2951|            1.4392|            8.0166|            4.7337|            3.9511|            3.8588|            7.6437|           18.0754|\n",
            "|Abnormal|              5.1059|              5.7733|               8.8504|             10.6778|            8.2619|            0.8947|            7.4259|            4.1418|            6.7483|           12.8873|           13.1458|           20.2633|\n",
            "|Abnormal|               5.137|              5.3503|               9.2157|             10.7016|            6.0699|            1.7316|            6.6422|            4.7857|             7.533|           18.9524|           14.4566|            9.8316|\n",
            "|Abnormal|              4.8349|              5.2707|               9.4775|              10.383|              5.46|            1.6357|            5.4735|            4.3915|            7.2929|            5.4097|            5.4189|            15.029|\n",
            "|Abnormal|              4.1519|              5.5362|               9.8117|              9.3311|            7.1312|            0.2173|            4.5742|            3.1847|            7.3391|           10.6625|            5.9451|           19.4601|\n",
            "|Abnormal|              3.7198|              5.3558|                 9.18|              8.8467|            8.6388|            0.6982|             5.092|            3.5719|           10.0901|           19.4601|            2.7418|           19.8386|\n",
            "|Abnormal|              3.8452|               4.476|               7.7243|              9.3997|             6.422|            1.5004|            3.1778|            4.1233|            3.6926|            7.2745|           24.2698|           22.6543|\n",
            "|Abnormal|              4.0897|              3.9395|               7.6016|              9.7806|            1.7208|             2.179|             1.023|            3.3616|            6.6467|           30.5196|           30.9073|           16.1829|\n",
            "|Abnormal|              3.4268|               4.325|               8.0264|              9.3494|            2.6432|            2.8448|            2.8448|            3.1616|           22.4696|            33.529|           16.8661|            6.2959|\n",
            "|Abnormal|              1.9711|              4.5099|               7.3444|              8.4915|            4.7062|            4.8897|            3.3477|            3.0679|            27.307|           21.9434|            23.522|           24.2329|\n",
            "|Abnormal|               1.279|              3.9725|               7.1008|              7.8772|            3.8929|            5.4654|            1.1953|            2.3108|           22.0357|           26.7715|            13.635|           24.4083|\n",
            "|Abnormal|              1.5527|              3.6502|               7.9944|              7.5998|            2.0927|            3.3974|             1.623|            1.5178|           12.8319|           22.2481|            9.9424|            7.2375|\n",
            "|Abnormal|              1.4841|              3.8306|               8.3734|               7.262|            1.2447|            2.3744|            3.5569|            0.5606|            0.6185|            15.389|           19.7832|           18.4908|\n",
            "|Abnormal|              1.0034|              3.9633|                7.869|              6.7584|            1.0216|            2.6795|            3.8124|            0.2647|            4.0342|           27.4085|           13.7181|           12.8319|\n",
            "|Abnormal|              0.4605|              3.9642|               7.2913|              6.2347|            0.8083|            2.5778|             4.588|            0.1063|            0.3693|           26.9377|            7.3668|            7.7822|\n",
            "|Abnormal|              0.2161|              3.8388|               6.8683|              5.6973|            1.4431|            2.6044|            4.5083|            0.0636|             3.148|            7.4683|           30.6488|            8.8346|\n",
            "+--------+--------------------+--------------------+---------------------+--------------------+------------------+------------------+------------------+------------------+------------------+------------------+------------------+------------------+\n",
            "only showing top 20 rows\n",
            "\n"
          ]
        }
      ]
    },
    {
      "cell_type": "markdown",
      "source": [
        "### Averages"
      ],
      "metadata": {
        "id": "hoWYcZzJOOEM"
      }
    },
    {
      "cell_type": "code",
      "source": [
        "# A function which createa a dataframe of summary statistics for each data type\n",
        "def averages(DF, dataType):\n",
        "  # converts the spark data frame to a pandas dataframe\n",
        "  pandasDF = DF.toPandas()\n",
        "\n",
        "  # calculates statistics\n",
        "  mean = pandasDF.mean(numeric_only=True)\n",
        "  median = pandasDF.median(numeric_only=True)\n",
        "  min = pandasDF.min(numeric_only=True)\n",
        "  max = pandasDF.max(numeric_only=True)\n",
        "\n",
        "  # creates a new dataframe for the statistics\n",
        "  group = ({'Mean': mean, \"Median\": median, \"Max\": max, \"Min\": min})\n",
        "  final = pandas.DataFrame(group)\n",
        "  final = final.reset_index(level=0)\n",
        "  sparkDF = spark.createDataFrame(final.round(6))\n",
        "\n",
        "  # displays statistics\n",
        "  print(\"Statistics for\",dataType,\"Data\")\n",
        "  sparkDF.show()\n",
        "\n",
        "# runs the averages function on both versions of the dataframe\n",
        "averages(normaldf, \"Normal\")\n",
        "averages(abnormaldf, \"Abnormal\")\n",
        "\n",
        "  "
      ],
      "metadata": {
        "id": "Zxu_PO67pV-w",
        "colab": {
          "base_uri": "https://localhost:8080/"
        },
        "outputId": "13ec5a83-5c54-48dc-aec4-0546cd31d013"
      },
      "execution_count": 12,
      "outputs": [
        {
          "output_type": "stream",
          "name": "stdout",
          "text": [
            "Statistics for Normal Data\n",
            "+--------------------+---------+-------+-------+------+\n",
            "|               index|     Mean| Median|    Max|   Min|\n",
            "+--------------------+---------+-------+-------+------+\n",
            "|Power_range_sensor_1| 5.602453|5.17865|12.1298|0.0851|\n",
            "|Power_range_sensor_2| 6.844503|6.71765|11.9284|0.0403|\n",
            "|Power_range_senso...| 9.292054|9.26285|14.0982|4.3826|\n",
            "|Power_range_sensor_4| 8.701398|9.24085|16.3568|0.1547|\n",
            "|  Pressure _sensor_1|13.797526|10.6348|56.8562|0.0248|\n",
            "|  Pressure _sensor_2| 3.415646|  3.113| 9.2212|0.0104|\n",
            "|  Pressure _sensor_3| 5.923353| 5.7394|12.6475|0.0774|\n",
            "|  Pressure _sensor_4|  5.58618|4.25915|15.1085|0.0058|\n",
            "|  Vibration_sensor_1| 8.441437| 7.4499|31.4981|0.0092|\n",
            "|  Vibration_sensor_2| 9.699616|8.70075|34.8676|0.0277|\n",
            "|  Vibration_sensor_3|19.437804|16.4645|53.2384|0.0646|\n",
            "|  Vibration_sensor_4|10.925098|9.48545|43.2314|0.0831|\n",
            "+--------------------+---------+-------+-------+------+\n",
            "\n",
            "Statistics for Abnormal Data\n",
            "+--------------------+---------+--------+---------+--------+\n",
            "|               index|     Mean|  Median|      Max|     Min|\n",
            "+--------------------+---------+--------+---------+--------+\n",
            "|Power_range_sensor_1| 4.396695| 4.51355|10.923078|  0.0082|\n",
            "|Power_range_sensor_2| 5.914043|5.932218|  10.1541|  0.3891|\n",
            "|Power_range_senso...|  9.16417| 9.47205|  15.7599|2.583966|\n",
            "|Power_range_sensor_4| 6.009146|  5.3993|17.235858|  0.0623|\n",
            "|  Pressure _sensor_1|14.600728|12.59615|  67.9794|0.131478|\n",
            "|  Pressure _sensor_2|  2.74027|2.382689|10.242738|0.008262|\n",
            "|  Pressure _sensor_3| 5.575115|5.744257|  11.7724|0.001224|\n",
            "|  Pressure _sensor_4| 4.407824|3.322575| 16.55562|0.029478|\n",
            "|  Vibration_sensor_1| 7.887689| 6.53595|36.186438|     0.0|\n",
            "|  Vibration_sensor_2| 10.30357|  8.9731|34.331466|  0.0185|\n",
            "|  Vibration_sensor_3|10.938159|8.987269|36.911454|0.131784|\n",
            "|  Vibration_sensor_4| 8.942085|  8.1376|  26.4669|  0.0092|\n",
            "+--------------------+---------+--------+---------+--------+\n",
            "\n"
          ]
        }
      ]
    },
    {
      "cell_type": "markdown",
      "source": [
        "### Boxplot"
      ],
      "metadata": {
        "id": "gg_31puGOYUO"
      }
    },
    {
      "cell_type": "code",
      "source": [
        "# imports mathplot libary to create charts\n",
        "import matplotlib.pyplot as plt\n"
      ],
      "metadata": {
        "id": "R_Cqh9OKOcKq"
      },
      "execution_count": 13,
      "outputs": []
    },
    {
      "cell_type": "markdown",
      "source": [
        "Boxplot function"
      ],
      "metadata": {
        "id": "Tlx4CJJDOcox"
      }
    },
    {
      "cell_type": "code",
      "source": [
        "# a functions which creates a collection of boxplots from a dataframe\n",
        "def boxPlotter(df,tableType):\n",
        "\n",
        "  # a counter used to keep track of columns\n",
        "  counter = 0\n",
        "\n",
        "  # sets the title of the boxplot\n",
        "  title = \"Boxplots for \" + tableType + \" Data\"\n",
        "\n",
        "  # creates lists to store column value and column names\n",
        "  vals = []\n",
        "  col_name = []\n",
        "\n",
        "  # loops through each column in the dataframe\n",
        "  for i in df.columns:\n",
        "\n",
        "    # prevents a boxplot being created for the non numeric column\n",
        "    if i != \"Status\":\n",
        "\n",
        "      # selects the data\n",
        "      values = df.select(i).collect()\n",
        "\n",
        "      # removes the column index from the data\n",
        "      values = [x.asDict()[i] for x in values]\n",
        "\n",
        "      # adds to column data to lists\n",
        "      vals.append(values)\n",
        "      col_name.append(str(i))\n",
        "\n",
        "      # increments the column counter\n",
        "      counter += 1\n",
        "\n",
        "  # creates the figure and gives it a title\n",
        "  fig = plt.figure(figsize = (27,10))\n",
        "  fig.suptitle(title,fontsize = 20)\n",
        "\n",
        "  # plots data\n",
        "  plt.boxplot(vals, labels=col_name)\n",
        "  # displays the boxplot\n",
        "  plt.show()\n",
        "\n"
      ],
      "metadata": {
        "id": "72M4dqQI2XhS"
      },
      "execution_count": 14,
      "outputs": []
    },
    {
      "cell_type": "markdown",
      "source": [
        "Boxplots"
      ],
      "metadata": {
        "id": "DsavYLDVOfjL"
      }
    },
    {
      "cell_type": "code",
      "source": [
        "# creates boxplots for both normal and Abnormal data\n",
        "boxPlotter(normaldf, \"Normal\")\n",
        "boxPlotter(abnormaldf, \"Abnormal\")"
      ],
      "metadata": {
        "id": "uj1iAXoYOiUk",
        "colab": {
          "base_uri": "https://localhost:8080/",
          "height": 0
        },
        "outputId": "583a428a-5e81-406f-a58f-13600917b4db"
      },
      "execution_count": 15,
      "outputs": [
        {
          "output_type": "display_data",
          "data": {
            "text/plain": [
              "<Figure size 1944x720 with 1 Axes>"
            ],
            "image/png": "[encoded data removed]"
          },
          "metadata": {
            "needs_background": "light"
          }
        },
        {
          "output_type": "display_data",
          "data": {
            "text/plain": [
              "<Figure size 1944x720 with 1 Axes>"
            ],
            "image/png": "[encoded data removed]"
          },
          "metadata": {
            "needs_background": "light"
          }
        }
      ]
    },
    {
      "cell_type": "markdown",
      "source": [
        "## 1.3 Corrolation Matrix"
      ],
      "metadata": {
        "id": "9iE6v_lgOTpE"
      }
    },
    {
      "cell_type": "code",
      "source": [
        "import numpy as np\n",
        "\n",
        "# converts dataframe to pandas\n",
        "data = df.toPandas()\n",
        "\n",
        "# defines the size of the heatmap\n",
        "plt.figure(figsize=(20, 10))\n",
        "\n",
        "# creates a mask to stop duplicate data from appearing in the heatmap\n",
        "mask = np.triu(np.ones_like(data.corr(), bool))\n",
        "\n",
        "# creates the heatmap\n",
        "heatmap = sea.heatmap(data.corr(), vmin=-1, mask=mask, vmax=1, annot=True, cmap ='RdBu')\n",
        "\n",
        "# formats the\n",
        "plt.setp(heatmap.get_xticklabels (), rotation = 45, ha = 'right', rotation_mode = 'anchor')\n",
        "heatmap.set_title('Correlation Heatmap for Nuclear Plant Dataset', fontdict={'fontsize':12}, pad=12);"
      ],
      "metadata": {
        "id": "ZY9zoVlCOWgP",
        "colab": {
          "base_uri": "https://localhost:8080/",
          "height": 0
        },
        "outputId": "9b29251b-79f2-4372-82f3-79df89f2d5ba"
      },
      "execution_count": 16,
      "outputs": [
        {
          "output_type": "display_data",
          "data": {
            "text/plain": [
              "<Figure size 1440x720 with 2 Axes>"
            ],
            "image/png": "[encoded data removed]"
          },
          "metadata": {
            "needs_background": "light"
          }
        }
      ]
    },
    {
      "cell_type": "markdown",
      "source": [
        "## 1.4 Test Train split"
      ],
      "metadata": {
        "id": "MpaRvYL6X-xf"
      }
    },
    {
      "cell_type": "code",
      "source": [
        "# splits the dataset 70% training 30% testing\n",
        "train,test = df.randomSplit([0.7,0.3])\n",
        "print(\"There are\", train.count(), \"samples in the training set\")\n",
        "print(\"There are\", test.count(), \"samples in the testing set\")\n",
        "\n",
        "print(\"\")\n",
        "print(\"Catagory split for the training set\")\n",
        "# counts amount of each catagory in the train set\n",
        "trainSplitdf = train.groupBy(\"Status\").count()\n",
        "trainSplitdf.show()\n",
        "\n",
        "print(\"Catagory split for the testing set\")\n",
        "# counts amount of each catagory in the test set\n",
        "testSplitdf = test.groupBy(\"Status\").count()\n",
        "testSplitdf.show()"
      ],
      "metadata": {
        "id": "BU_oikSKYGM-",
        "colab": {
          "base_uri": "https://localhost:8080/"
        },
        "outputId": "9de118af-8c31-436d-f130-5640800c808e"
      },
      "execution_count": 17,
      "outputs": [
        {
          "output_type": "stream",
          "name": "stdout",
          "text": [
            "There are 726 samples in the training set\n",
            "There are 270 samples in the testing set\n",
            "\n",
            "Catagory split for the training set\n",
            "+--------+-----+\n",
            "|  Status|count|\n",
            "+--------+-----+\n",
            "|Abnormal|  370|\n",
            "|  Normal|  356|\n",
            "+--------+-----+\n",
            "\n",
            "Catagory split for the testing set\n",
            "+--------+-----+\n",
            "|  Status|count|\n",
            "+--------+-----+\n",
            "|Abnormal|  128|\n",
            "|  Normal|  142|\n",
            "+--------+-----+\n",
            "\n"
          ]
        }
      ]
    },
    {
      "cell_type": "markdown",
      "source": [
        "## 1.5 Machine learning"
      ],
      "metadata": {
        "id": "-Ky9leu8uBru"
      }
    },
    {
      "cell_type": "markdown",
      "source": [
        "### imports and transformer decleration"
      ],
      "metadata": {
        "id": "PL6NhE6jUHSz"
      }
    },
    {
      "cell_type": "code",
      "source": [
        "from pyspark.ml import Pipeline\n",
        "from pyspark.ml.classification import DecisionTreeClassifier, LinearSVC, MultilayerPerceptronClassifier\n",
        "from pyspark.ml.feature import StringIndexer, VectorIndexer, VectorAssembler, OneHotEncoder, Normalizer\n",
        "from pyspark.ml.linalg import Vectors\n",
        "from pyspark.ml.evaluation import MulticlassClassificationEvaluator\n",
        "\n",
        "\n",
        "# converts the class lables to text to be used by the classifer\n",
        "labelIndexer = StringIndexer(inputCol=\"Status\", outputCol=\"label\").fit(df)\n",
        "\n",
        "# combines all the features of each row into their own vector\n",
        "featureAssembler = VectorAssembler(inputCols=df.columns[1:], outputCol=\"features\")\n",
        "\n",
        "# encodes labels for the support vector machine\n",
        "encoder = OneHotEncoder(inputCol='label', outputCol='labelVec')"
      ],
      "metadata": {
        "id": "ctFefjjVURwq"
      },
      "execution_count": 18,
      "outputs": []
    },
    {
      "cell_type": "markdown",
      "source": [
        "### Evaluator function"
      ],
      "metadata": {
        "id": "6Dxcgo7VU1qj"
      }
    },
    {
      "cell_type": "code",
      "source": [
        "def getStats(predictions):\n",
        "\n",
        "    # displays a random selection of predictions\n",
        "    randomPreds = predictions.sample(0.03)\n",
        "    randomPreds.select(\"features\",\"Status\", \"label\", \"prediction\").show()\n",
        "\n",
        "    # creates an evaluator\n",
        "    eval = MulticlassClassificationEvaluator(labelCol=\"label\", predictionCol=\"prediction\")\n",
        "\n",
        "    # uses the accuracy to calculate the error rate from the accuracy\n",
        "    accuracy = eval.evaluate(predictions, {eval.metricName: \"accuracy\"})\n",
        "    print(\"Error Rate = %g \" % (1.0 - accuracy))\n",
        "\n",
        "    # calculates the recall score for both classes\n",
        "    recall = eval.evaluate(predictions, {eval.metricName: \"recallByLabel\", eval.metricLabel: 1.0})\n",
        "    print(\"recall for Normal label = %g \" % (recall))\n",
        "    recall = eval.evaluate(predictions, {eval.metricName: \"recallByLabel\", eval.metricLabel: 0.0})\n",
        "    print(\"recall for Abnormal label = %g \" % (recall))\n",
        "\n",
        "    # calculates the sensitivity score for both classes by using the false positive rate\n",
        "    fp = eval.evaluate(predictions, {eval.metricName: \"falsePositiveRateByLabel\", eval.metricLabel: 1.0})\n",
        "    print(\"Specificity for Normal label = %g \" % (1 - fp))\n",
        "    fp = eval.evaluate(predictions, {eval.metricName: \"falsePositiveRateByLabel\", eval.metricLabel: 0.0})\n",
        "    print(\"Specificity for Abnormal label= %g \" % (1 - fp))"
      ],
      "metadata": {
        "id": "EXixN9OEU_oZ"
      },
      "execution_count": 19,
      "outputs": []
    },
    {
      "cell_type": "markdown",
      "source": [
        "### Decicion tree\n"
      ],
      "metadata": {
        "id": "uTD49oDVvZVy"
      }
    },
    {
      "cell_type": "code",
      "source": [
        "# creates a decision tree\n",
        "dt = DecisionTreeClassifier(labelCol=\"label\", featuresCol=\"features\")\n",
        "\n",
        "# creates a pipline for the machine learning model\n",
        "pipeline = Pipeline(stages=[labelIndexer,encoder,featureAssembler, dt])\n",
        "\n",
        "# fits the training data to the model\n",
        "model = pipeline.fit(train)\n",
        "\n",
        "# runs the model with the test data\n",
        "predictions = model.transform(test)\n",
        "\n",
        "print(\"Decision tree\")\n",
        "\n",
        "# runs a functions which returns the models performance statistics\n",
        "getStats(predictions)"
      ],
      "metadata": {
        "id": "cFGNGFoAwT_5",
        "colab": {
          "base_uri": "https://localhost:8080/"
        },
        "outputId": "47701de0-01b8-4696-b2eb-8344708dc168"
      },
      "execution_count": 20,
      "outputs": [
        {
          "output_type": "stream",
          "name": "stdout",
          "text": [
            "Decision tree\n",
            "+--------------------+--------+-----+----------+\n",
            "|            features|  Status|label|prediction|\n",
            "+--------------------+--------+-----+----------+\n",
            "|[0.74052,4.634676...|Abnormal|  0.0|       0.0|\n",
            "|[1.101906,4.27788...|Abnormal|  0.0|       0.0|\n",
            "|[1.483896,3.36365...|Abnormal|  0.0|       0.0|\n",
            "|[3.4268,4.325,8.0...|Abnormal|  0.0|       1.0|\n",
            "|[4.0897,3.9395,7....|Abnormal|  0.0|       0.0|\n",
            "|[7.6089,9.1992,14...|Abnormal|  0.0|       0.0|\n",
            "|[8.86584,5.042676...|Abnormal|  0.0|       0.0|\n",
            "|[3.6081,8.6783,12...|  Normal|  1.0|       1.0|\n",
            "|[4.5035,9.5517,13...|  Normal|  1.0|       1.0|\n",
            "|[4.704,11.9284,9....|  Normal|  1.0|       1.0|\n",
            "|[5.3146,5.9024,9....|  Normal|  1.0|       1.0|\n",
            "+--------------------+--------+-----+----------+\n",
            "\n",
            "Error Rate = 0.207407 \n",
            "recall for Normal label = 0.838028 \n",
            "recall for Abnormal label = 0.742188 \n",
            "Specificity for Normal label = 0.742188 \n",
            "Specificity for Abnormal label= 0.838028 \n"
          ]
        }
      ]
    },
    {
      "cell_type": "markdown",
      "source": [
        "### Support Vector Machine\n"
      ],
      "metadata": {
        "id": "Sq-QDqgqID5B"
      }
    },
    {
      "cell_type": "code",
      "source": [
        "# create a support vector machine\n",
        "lsvc = LinearSVC(maxIter=10, regParam=0.1)\n",
        "\n",
        "# creates a pipline for the machine learning model\n",
        "pipline = Pipeline(stages=[labelIndexer,encoder,featureAssembler,lsvc])\n",
        "\n",
        "# fits the training data to the model\n",
        "model = pipline.fit(train)\n",
        "\n",
        "# runs the model with the test data\n",
        "predictions = model.transform(test)\n",
        "\n",
        "print(\"Support Vector Machine\")\n",
        "\n",
        "# runs a functions which returns the models performance statistics\n",
        "getStats(predictions)"
      ],
      "metadata": {
        "id": "rWBtvgRXIPdI",
        "colab": {
          "base_uri": "https://localhost:8080/"
        },
        "outputId": "6a797e8f-1400-4501-944a-4874bb9bfcd6"
      },
      "execution_count": 21,
      "outputs": [
        {
          "output_type": "stream",
          "name": "stdout",
          "text": [
            "Support Vector Machine\n",
            "+--------------------+--------+-----+----------+\n",
            "|            features|  Status|label|prediction|\n",
            "+--------------------+--------+-----+----------+\n",
            "|[0.1273,8.5876,13...|Abnormal|  0.0|       0.0|\n",
            "|[2.8793,8.1244,8....|Abnormal|  0.0|       1.0|\n",
            "|[4.585104,5.20149...|Abnormal|  0.0|       1.0|\n",
            "|[6.9223,7.8323,12...|Abnormal|  0.0|       0.0|\n",
            "|[0.3983,5.5316,5....|  Normal|  1.0|       0.0|\n",
            "|[1.6827,11.8625,1...|  Normal|  1.0|       0.0|\n",
            "|[3.2767,7.8973,9....|  Normal|  1.0|       0.0|\n",
            "|[3.5184,6.5341,7....|  Normal|  1.0|       0.0|\n",
            "|[3.577,7.3379,9.4...|  Normal|  1.0|       0.0|\n",
            "|[3.7949,9.2789,10...|  Normal|  1.0|       0.0|\n",
            "|[5.8438,1.1902,5....|  Normal|  1.0|       1.0|\n",
            "+--------------------+--------+-----+----------+\n",
            "\n",
            "Error Rate = 0.318519 \n",
            "recall for Normal label = 0.619718 \n",
            "recall for Abnormal label = 0.75 \n",
            "Specificity for Normal label = 0.75 \n",
            "Specificity for Abnormal label= 0.619718 \n"
          ]
        }
      ]
    },
    {
      "cell_type": "markdown",
      "source": [
        "### MulitLayer Perceptron"
      ],
      "metadata": {
        "id": "g_vBU1tjXS-X"
      }
    },
    {
      "cell_type": "code",
      "source": [
        "# defines how many layers are required along with how many nodes in each layer\n",
        "layers = [12,15,15,2]\n",
        "\n",
        "# creates a multilayer perceptrons\n",
        "mlp = MultilayerPerceptronClassifier(layers=layers, seed=1)\n",
        "\n",
        "# creates a pipline for the machine learning model\n",
        "pipline = Pipeline(stages=[labelIndexer,encoder,featureAssembler,mlp])\n",
        "\n",
        "# fits the training data to the model\n",
        "model = pipline.fit(train)\n",
        "\n",
        "# runs the model with the test data\n",
        "predictions = model.transform(test)\n",
        "\n",
        "print(\"Mulitlayer Perceptron\")\n",
        "\n",
        "# runs a functions which returns the models performance statistics\n",
        "getStats(predictions)"
      ],
      "metadata": {
        "id": "secAlmezXYZt",
        "colab": {
          "base_uri": "https://localhost:8080/"
        },
        "outputId": "238f5070-35d9-4420-ecfa-3d9246fa8e38"
      },
      "execution_count": 22,
      "outputs": [
        {
          "output_type": "stream",
          "name": "stdout",
          "text": [
            "Mulitlayer Perceptron\n",
            "+--------------------+--------+-----+----------+\n",
            "|            features|  Status|label|prediction|\n",
            "+--------------------+--------+-----+----------+\n",
            "|[0.6244,8.3835,9....|Abnormal|  0.0|       0.0|\n",
            "|[2.049,1.2231,5.8...|Abnormal|  0.0|       0.0|\n",
            "|[6.2988,8.8275,11...|Abnormal|  0.0|       0.0|\n",
            "|[6.8234,7.8131,13...|Abnormal|  0.0|       0.0|\n",
            "|[3.6456,7.9056,8....|  Normal|  1.0|       1.0|\n",
            "|[9.3686,6.2146,11...|  Normal|  1.0|       0.0|\n",
            "+--------------------+--------+-----+----------+\n",
            "\n",
            "Error Rate = 0.225926 \n",
            "recall for Normal label = 0.823944 \n",
            "recall for Abnormal label = 0.71875 \n",
            "Specificity for Normal label = 0.71875 \n",
            "Specificity for Abnormal label= 0.823944 \n"
          ]
        }
      ]
    },
    {
      "cell_type": "markdown",
      "source": [
        "# Task 2"
      ],
      "metadata": {
        "id": "CCCWbu2lcp8K"
      }
    },
    {
      "cell_type": "markdown",
      "source": [
        "## Imports"
      ],
      "metadata": {
        "id": "SSpSZJW7tT-W"
      }
    },
    {
      "cell_type": "code",
      "source": [
        "import datetime\n",
        "from datetime import timedelta\n",
        "import math"
      ],
      "metadata": {
        "id": "ptNqLdwetcNH"
      },
      "execution_count": 23,
      "outputs": []
    },
    {
      "cell_type": "markdown",
      "source": [
        "## Load the data\n"
      ],
      "metadata": {
        "id": "SvTHo-mOrfR5"
      }
    },
    {
      "cell_type": "code",
      "source": [
        "# creates a pandas dataframe of passenger data\n",
        "cols = ['passenger_id', 'flight_id','dep_airport','dest_airport','dep_time','total_time']\n",
        "passengerDF = pandas.read_csv(\"AComp_Passenger_data_no_error.csv\", names = cols)\n",
        "\n",
        "# creates a pandas dataframe of airport data\n",
        "cols = ['airport_name','code','lat','long']\n",
        "airportDF = pandas.read_csv(\"Top30_airports_LatLong.csv\", names = cols)\n",
        "\n",
        "# displays both dataframes\n",
        "display(passengerDF)\n",
        "display(airportDF)"
      ],
      "metadata": {
        "id": "aXMVwz_orkGL",
        "colab": {
          "base_uri": "https://localhost:8080/",
          "height": 1000
        },
        "outputId": "345a9891-eb0a-4a84-a74b-feba02ccbbf8"
      },
      "execution_count": 24,
      "outputs": [
        {
          "output_type": "display_data",
          "data": {
            "text/plain": [
              "    passenger_id flight_id dep_airport dest_airport    dep_time  total_time\n",
              "0     UES9151GS5  SQU6245R         DEN          FRA  1420564460        1049\n",
              "1     UES9151GS5  XXQ4064B         JFK          FRA  1420563917         802\n",
              "2     EZC9678QI6  SOH3431A         ORD          MIA  1420563649         250\n",
              "3     ONL0812DH1  SOH3431A         ORD          MIA  1420563649         250\n",
              "4     CYJ0225CH1  PME8178S         DEN          PEK  1420564409        1322\n",
              "..           ...       ...         ...          ...         ...         ...\n",
              "495   BWI0520BG6  BER7172M         KUL          LAS  1420565167        1848\n",
              "496   LLZ3798PE3  EWH6301Y         CAN          DFW  1420564967        1683\n",
              "497   KKP5277HZ7  KJR6646J         IAH          BKK  1420565203        1928\n",
              "498   JJM4724RF7  XXQ4064B         JFK          FRA  1420563917         802\n",
              "499   SJD8775RZ4  WSK1289Z         CLT          DEN  1420563542         278\n",
              "\n",
              "[500 rows x 6 columns]"
            ],
            "text/html": [
              "\n",
              "  <div id=\"df-6d497dbe-f0e1-4310-a264-cd0dee6eb3ef\">\n",
              "    <div class=\"colab-df-container\">\n",
              "      <div>\n",
              "<style scoped>\n",
              "    .dataframe tbody tr th:only-of-type {\n",
              "        vertical-align: middle;\n",
              "    }\n",
              "\n",
              "    .dataframe tbody tr th {\n",
              "        vertical-align: top;\n",
              "    }\n",
              "\n",
              "    .dataframe thead th {\n",
              "        text-align: right;\n",
              "    }\n",
              "</style>\n",
              "<table border=\"1\" class=\"dataframe\">\n",
              "  <thead>\n",
              "    <tr style=\"text-align: right;\">\n",
              "      <th></th>\n",
              "      <th>passenger_id</th>\n",
              "      <th>flight_id</th>\n",
              "      <th>dep_airport</th>\n",
              "      <th>dest_airport</th>\n",
              "      <th>dep_time</th>\n",
              "      <th>total_time</th>\n",
              "    </tr>\n",
              "  </thead>\n",
              "  <tbody>\n",
              "    <tr>\n",
              "      <th>0</th>\n",
              "      <td>UES9151GS5</td>\n",
              "      <td>SQU6245R</td>\n",
              "      <td>DEN</td>\n",
              "      <td>FRA</td>\n",
              "      <td>1420564460</td>\n",
              "      <td>1049</td>\n",
              "    </tr>\n",
              "    <tr>\n",
              "      <th>1</th>\n",
              "      <td>UES9151GS5</td>\n",
              "      <td>XXQ4064B</td>\n",
              "      <td>JFK</td>\n",
              "      <td>FRA</td>\n",
              "      <td>1420563917</td>\n",
              "      <td>802</td>\n",
              "    </tr>\n",
              "    <tr>\n",
              "      <th>2</th>\n",
              "      <td>EZC9678QI6</td>\n",
              "      <td>SOH3431A</td>\n",
              "      <td>ORD</td>\n",
              "      <td>MIA</td>\n",
              "      <td>1420563649</td>\n",
              "      <td>250</td>\n",
              "    </tr>\n",
              "    <tr>\n",
              "      <th>3</th>\n",
              "      <td>ONL0812DH1</td>\n",
              "      <td>SOH3431A</td>\n",
              "      <td>ORD</td>\n",
              "      <td>MIA</td>\n",
              "      <td>1420563649</td>\n",
              "      <td>250</td>\n",
              "    </tr>\n",
              "    <tr>\n",
              "      <th>4</th>\n",
              "      <td>CYJ0225CH1</td>\n",
              "      <td>PME8178S</td>\n",
              "      <td>DEN</td>\n",
              "      <td>PEK</td>\n",
              "      <td>1420564409</td>\n",
              "      <td>1322</td>\n",
              "    </tr>\n",
              "    <tr>\n",
              "      <th>...</th>\n",
              "      <td>...</td>\n",
              "      <td>...</td>\n",
              "      <td>...</td>\n",
              "      <td>...</td>\n",
              "      <td>...</td>\n",
              "      <td>...</td>\n",
              "    </tr>\n",
              "    <tr>\n",
              "      <th>495</th>\n",
              "      <td>BWI0520BG6</td>\n",
              "      <td>BER7172M</td>\n",
              "      <td>KUL</td>\n",
              "      <td>LAS</td>\n",
              "      <td>1420565167</td>\n",
              "      <td>1848</td>\n",
              "    </tr>\n",
              "    <tr>\n",
              "      <th>496</th>\n",
              "      <td>LLZ3798PE3</td>\n",
              "      <td>EWH6301Y</td>\n",
              "      <td>CAN</td>\n",
              "      <td>DFW</td>\n",
              "      <td>1420564967</td>\n",
              "      <td>1683</td>\n",
              "    </tr>\n",
              "    <tr>\n",
              "      <th>497</th>\n",
              "      <td>KKP5277HZ7</td>\n",
              "      <td>KJR6646J</td>\n",
              "      <td>IAH</td>\n",
              "      <td>BKK</td>\n",
              "      <td>1420565203</td>\n",
              "      <td>1928</td>\n",
              "    </tr>\n",
              "    <tr>\n",
              "      <th>498</th>\n",
              "      <td>JJM4724RF7</td>\n",
              "      <td>XXQ4064B</td>\n",
              "      <td>JFK</td>\n",
              "      <td>FRA</td>\n",
              "      <td>1420563917</td>\n",
              "      <td>802</td>\n",
              "    </tr>\n",
              "    <tr>\n",
              "      <th>499</th>\n",
              "      <td>SJD8775RZ4</td>\n",
              "      <td>WSK1289Z</td>\n",
              "      <td>CLT</td>\n",
              "      <td>DEN</td>\n",
              "      <td>1420563542</td>\n",
              "      <td>278</td>\n",
              "    </tr>\n",
              "  </tbody>\n",
              "</table>\n",
              "<p>500 rows × 6 columns</p>\n",
              "</div>\n",
              "      <button class=\"colab-df-convert\" onclick=\"convertToInteractive('df-6d497dbe-f0e1-4310-a264-cd0dee6eb3ef')\"\n",
              "              title=\"Convert this dataframe to an interactive table.\"\n",
              "              style=\"display:none;\">\n",
              "        \n",
              "  <svg xmlns=\"http://www.w3.org/2000/svg\" height=\"24px\"viewBox=\"0 0 24 24\"\n",
              "       width=\"24px\">\n",
              "    <path d=\"M0 0h24v24H0V0z\" fill=\"none\"/>\n",
              "    <path d=\"M18.56 5.44l.94 2.06.94-2.06 2.06-.94-2.06-.94-.94-2.06-.94 2.06-2.06.94zm-11 1L8.5 8.5l.94-2.06 2.06-.94-2.06-.94L8.5 2.5l-.94 2.06-2.06.94zm10 10l.94 2.06.94-2.06 2.06-.94-2.06-.94-.94-2.06-.94 2.06-2.06.94z\"/><path d=\"M17.41 7.96l-1.37-1.37c-.4-.4-.92-.59-1.43-.59-.52 0-1.04.2-1.43.59L10.3 9.45l-7.72 7.72c-.78.78-.78 2.05 0 2.83L4 21.41c.39.39.9.59 1.41.59.51 0 1.02-.2 1.41-.59l7.78-7.78 2.81-2.81c.8-.78.8-2.07 0-2.86zM5.41 20L4 18.59l7.72-7.72 1.47 1.35L5.41 20z\"/>\n",
              "  </svg>\n",
              "      </button>\n",
              "      \n",
              "  <style>\n",
              "    .colab-df-container {\n",
              "      display:flex;\n",
              "      flex-wrap:wrap;\n",
              "      gap: 12px;\n",
              "    }\n",
              "\n",
              "    .colab-df-convert {\n",
              "      background-color: #E8F0FE;\n",
              "      border: none;\n",
              "      border-radius: 50%;\n",
              "      cursor: pointer;\n",
              "      display: none;\n",
              "      fill: #1967D2;\n",
              "      height: 32px;\n",
              "      padding: 0 0 0 0;\n",
              "      width: 32px;\n",
              "    }\n",
              "\n",
              "    .colab-df-convert:hover {\n",
              "      background-color: #E2EBFA;\n",
              "      box-shadow: 0px 1px 2px rgba(60, 64, 67, 0.3), 0px 1px 3px 1px rgba(60, 64, 67, 0.15);\n",
              "      fill: #174EA6;\n",
              "    }\n",
              "\n",
              "    [theme=dark] .colab-df-convert {\n",
              "      background-color: #3B4455;\n",
              "      fill: #D2E3FC;\n",
              "    }\n",
              "\n",
              "    [theme=dark] .colab-df-convert:hover {\n",
              "      background-color: #434B5C;\n",
              "      box-shadow: 0px 1px 3px 1px rgba(0, 0, 0, 0.15);\n",
              "      filter: drop-shadow(0px 1px 2px rgba(0, 0, 0, 0.3));\n",
              "      fill: #FFFFFF;\n",
              "    }\n",
              "  </style>\n",
              "\n",
              "      <script>\n",
              "        const buttonEl =\n",
              "          document.querySelector('#df-6d497dbe-f0e1-4310-a264-cd0dee6eb3ef button.colab-df-convert');\n",
              "        buttonEl.style.display =\n",
              "          google.colab.kernel.accessAllowed ? 'block' : 'none';\n",
              "\n",
              "        async function convertToInteractive(key) {\n",
              "          const element = document.querySelector('#df-6d497dbe-f0e1-4310-a264-cd0dee6eb3ef');\n",
              "          const dataTable =\n",
              "            await google.colab.kernel.invokeFunction('convertToInteractive',\n",
              "                                                     [key], {});\n",
              "          if (!dataTable) return;\n",
              "\n",
              "          const docLinkHtml = 'Like what you see? Visit the ' +\n",
              "            '<a target=\"_blank\" href=https://colab.research.google.com/notebooks/data_table.ipynb>data table notebook</a>'\n",
              "            + ' to learn more about interactive tables.';\n",
              "          element.innerHTML = '';\n",
              "          dataTable['output_type'] = 'display_data';\n",
              "          await google.colab.output.renderOutput(dataTable, element);\n",
              "          const docLink = document.createElement('div');\n",
              "          docLink.innerHTML = docLinkHtml;\n",
              "          element.appendChild(docLink);\n",
              "        }\n",
              "      </script>\n",
              "    </div>\n",
              "  </div>\n",
              "  "
            ]
          },
          "metadata": {}
        },
        {
          "output_type": "display_data",
          "data": {
            "text/plain": [
              "         airport_name code        lat        long\n",
              "0             ATLANTA  ATL  33.636719  -84.428067\n",
              "1             BEIJING  PEK  40.080111  116.584556\n",
              "2              LONDON  LHR  51.477500   -0.461389\n",
              "3             CHICAGO  ORD  41.978603  -87.904842\n",
              "4               TOKYO  HND  35.552258  139.779694\n",
              "5         LOS ANGELES  LAX  33.942536 -118.408075\n",
              "6               PARIS  CDG  49.012779    2.550000\n",
              "7   DALLAS/FORT WORTH  DFW  32.896828  -97.037997\n",
              "8           FRANKFURT  FRA  50.026421    8.543125\n",
              "9           HONG KONG  HKG  22.308919  113.914603\n",
              "10             DENVER  DEN  39.861656 -104.673178\n",
              "11              DUBAI  DXB  25.252778   55.364444\n",
              "12            JAKARTA  CGK  -6.125567  106.655897\n",
              "13          AMSTERDAM  AMS  52.308613    4.763889\n",
              "14             MADRID  MAD  40.493556   -3.566764\n",
              "15            BANGKOK  BKK  13.681108  100.747283\n",
              "16           NEW YORK  JFK  40.639751  -73.778925\n",
              "17          SINGAPORE  SIN   1.350189  103.994433\n",
              "18          GUANGZHOU  CAN  23.392436  113.298786\n",
              "19          LAS VEGAS  LAS  36.080056 -115.152250\n",
              "20           SHANGHAI  PVG  31.143378  121.805214\n",
              "21      SAN FRANCISCO  SFO  37.618972 -122.374889\n",
              "22            PHOENIX  PHX  33.434278 -112.011583\n",
              "23            HOUSTON  IAH  29.984433  -95.341442\n",
              "24          CHARLOTTE  CLT  35.214000  -80.943139\n",
              "25              MIAMI  MIA  25.793250  -80.290556\n",
              "26             MUNICH  MUC  48.353783   11.786086\n",
              "27       KUALA LUMPUR  KUL   2.745578  101.709917\n",
              "28               ROME  FCO  41.804475   12.250797\n",
              "29           ISTANBUL  IST  40.976922   28.814606"
            ],
            "text/html": [
              "\n",
              "  <div id=\"df-0c835adc-f13e-46ea-b333-c06bf45ce277\">\n",
              "    <div class=\"colab-df-container\">\n",
              "      <div>\n",
              "<style scoped>\n",
              "    .dataframe tbody tr th:only-of-type {\n",
              "        vertical-align: middle;\n",
              "    }\n",
              "\n",
              "    .dataframe tbody tr th {\n",
              "        vertical-align: top;\n",
              "    }\n",
              "\n",
              "    .dataframe thead th {\n",
              "        text-align: right;\n",
              "    }\n",
              "</style>\n",
              "<table border=\"1\" class=\"dataframe\">\n",
              "  <thead>\n",
              "    <tr style=\"text-align: right;\">\n",
              "      <th></th>\n",
              "      <th>airport_name</th>\n",
              "      <th>code</th>\n",
              "      <th>lat</th>\n",
              "      <th>long</th>\n",
              "    </tr>\n",
              "  </thead>\n",
              "  <tbody>\n",
              "    <tr>\n",
              "      <th>0</th>\n",
              "      <td>ATLANTA</td>\n",
              "      <td>ATL</td>\n",
              "      <td>33.636719</td>\n",
              "      <td>-84.428067</td>\n",
              "    </tr>\n",
              "    <tr>\n",
              "      <th>1</th>\n",
              "      <td>BEIJING</td>\n",
              "      <td>PEK</td>\n",
              "      <td>40.080111</td>\n",
              "      <td>116.584556</td>\n",
              "    </tr>\n",
              "    <tr>\n",
              "      <th>2</th>\n",
              "      <td>LONDON</td>\n",
              "      <td>LHR</td>\n",
              "      <td>51.477500</td>\n",
              "      <td>-0.461389</td>\n",
              "    </tr>\n",
              "    <tr>\n",
              "      <th>3</th>\n",
              "      <td>CHICAGO</td>\n",
              "      <td>ORD</td>\n",
              "      <td>41.978603</td>\n",
              "      <td>-87.904842</td>\n",
              "    </tr>\n",
              "    <tr>\n",
              "      <th>4</th>\n",
              "      <td>TOKYO</td>\n",
              "      <td>HND</td>\n",
              "      <td>35.552258</td>\n",
              "      <td>139.779694</td>\n",
              "    </tr>\n",
              "    <tr>\n",
              "      <th>5</th>\n",
              "      <td>LOS ANGELES</td>\n",
              "      <td>LAX</td>\n",
              "      <td>33.942536</td>\n",
              "      <td>-118.408075</td>\n",
              "    </tr>\n",
              "    <tr>\n",
              "      <th>6</th>\n",
              "      <td>PARIS</td>\n",
              "      <td>CDG</td>\n",
              "      <td>49.012779</td>\n",
              "      <td>2.550000</td>\n",
              "    </tr>\n",
              "    <tr>\n",
              "      <th>7</th>\n",
              "      <td>DALLAS/FORT WORTH</td>\n",
              "      <td>DFW</td>\n",
              "      <td>32.896828</td>\n",
              "      <td>-97.037997</td>\n",
              "    </tr>\n",
              "    <tr>\n",
              "      <th>8</th>\n",
              "      <td>FRANKFURT</td>\n",
              "      <td>FRA</td>\n",
              "      <td>50.026421</td>\n",
              "      <td>8.543125</td>\n",
              "    </tr>\n",
              "    <tr>\n",
              "      <th>9</th>\n",
              "      <td>HONG KONG</td>\n",
              "      <td>HKG</td>\n",
              "      <td>22.308919</td>\n",
              "      <td>113.914603</td>\n",
              "    </tr>\n",
              "    <tr>\n",
              "      <th>10</th>\n",
              "      <td>DENVER</td>\n",
              "      <td>DEN</td>\n",
              "      <td>39.861656</td>\n",
              "      <td>-104.673178</td>\n",
              "    </tr>\n",
              "    <tr>\n",
              "      <th>11</th>\n",
              "      <td>DUBAI</td>\n",
              "      <td>DXB</td>\n",
              "      <td>25.252778</td>\n",
              "      <td>55.364444</td>\n",
              "    </tr>\n",
              "    <tr>\n",
              "      <th>12</th>\n",
              "      <td>JAKARTA</td>\n",
              "      <td>CGK</td>\n",
              "      <td>-6.125567</td>\n",
              "      <td>106.655897</td>\n",
              "    </tr>\n",
              "    <tr>\n",
              "      <th>13</th>\n",
              "      <td>AMSTERDAM</td>\n",
              "      <td>AMS</td>\n",
              "      <td>52.308613</td>\n",
              "      <td>4.763889</td>\n",
              "    </tr>\n",
              "    <tr>\n",
              "      <th>14</th>\n",
              "      <td>MADRID</td>\n",
              "      <td>MAD</td>\n",
              "      <td>40.493556</td>\n",
              "      <td>-3.566764</td>\n",
              "    </tr>\n",
              "    <tr>\n",
              "      <th>15</th>\n",
              "      <td>BANGKOK</td>\n",
              "      <td>BKK</td>\n",
              "      <td>13.681108</td>\n",
              "      <td>100.747283</td>\n",
              "    </tr>\n",
              "    <tr>\n",
              "      <th>16</th>\n",
              "      <td>NEW YORK</td>\n",
              "      <td>JFK</td>\n",
              "      <td>40.639751</td>\n",
              "      <td>-73.778925</td>\n",
              "    </tr>\n",
              "    <tr>\n",
              "      <th>17</th>\n",
              "      <td>SINGAPORE</td>\n",
              "      <td>SIN</td>\n",
              "      <td>1.350189</td>\n",
              "      <td>103.994433</td>\n",
              "    </tr>\n",
              "    <tr>\n",
              "      <th>18</th>\n",
              "      <td>GUANGZHOU</td>\n",
              "      <td>CAN</td>\n",
              "      <td>23.392436</td>\n",
              "      <td>113.298786</td>\n",
              "    </tr>\n",
              "    <tr>\n",
              "      <th>19</th>\n",
              "      <td>LAS VEGAS</td>\n",
              "      <td>LAS</td>\n",
              "      <td>36.080056</td>\n",
              "      <td>-115.152250</td>\n",
              "    </tr>\n",
              "    <tr>\n",
              "      <th>20</th>\n",
              "      <td>SHANGHAI</td>\n",
              "      <td>PVG</td>\n",
              "      <td>31.143378</td>\n",
              "      <td>121.805214</td>\n",
              "    </tr>\n",
              "    <tr>\n",
              "      <th>21</th>\n",
              "      <td>SAN FRANCISCO</td>\n",
              "      <td>SFO</td>\n",
              "      <td>37.618972</td>\n",
              "      <td>-122.374889</td>\n",
              "    </tr>\n",
              "    <tr>\n",
              "      <th>22</th>\n",
              "      <td>PHOENIX</td>\n",
              "      <td>PHX</td>\n",
              "      <td>33.434278</td>\n",
              "      <td>-112.011583</td>\n",
              "    </tr>\n",
              "    <tr>\n",
              "      <th>23</th>\n",
              "      <td>HOUSTON</td>\n",
              "      <td>IAH</td>\n",
              "      <td>29.984433</td>\n",
              "      <td>-95.341442</td>\n",
              "    </tr>\n",
              "    <tr>\n",
              "      <th>24</th>\n",
              "      <td>CHARLOTTE</td>\n",
              "      <td>CLT</td>\n",
              "      <td>35.214000</td>\n",
              "      <td>-80.943139</td>\n",
              "    </tr>\n",
              "    <tr>\n",
              "      <th>25</th>\n",
              "      <td>MIAMI</td>\n",
              "      <td>MIA</td>\n",
              "      <td>25.793250</td>\n",
              "      <td>-80.290556</td>\n",
              "    </tr>\n",
              "    <tr>\n",
              "      <th>26</th>\n",
              "      <td>MUNICH</td>\n",
              "      <td>MUC</td>\n",
              "      <td>48.353783</td>\n",
              "      <td>11.786086</td>\n",
              "    </tr>\n",
              "    <tr>\n",
              "      <th>27</th>\n",
              "      <td>KUALA LUMPUR</td>\n",
              "      <td>KUL</td>\n",
              "      <td>2.745578</td>\n",
              "      <td>101.709917</td>\n",
              "    </tr>\n",
              "    <tr>\n",
              "      <th>28</th>\n",
              "      <td>ROME</td>\n",
              "      <td>FCO</td>\n",
              "      <td>41.804475</td>\n",
              "      <td>12.250797</td>\n",
              "    </tr>\n",
              "    <tr>\n",
              "      <th>29</th>\n",
              "      <td>ISTANBUL</td>\n",
              "      <td>IST</td>\n",
              "      <td>40.976922</td>\n",
              "      <td>28.814606</td>\n",
              "    </tr>\n",
              "  </tbody>\n",
              "</table>\n",
              "</div>\n",
              "      <button class=\"colab-df-convert\" onclick=\"convertToInteractive('df-0c835adc-f13e-46ea-b333-c06bf45ce277')\"\n",
              "              title=\"Convert this dataframe to an interactive table.\"\n",
              "              style=\"display:none;\">\n",
              "        \n",
              "  <svg xmlns=\"http://www.w3.org/2000/svg\" height=\"24px\"viewBox=\"0 0 24 24\"\n",
              "       width=\"24px\">\n",
              "    <path d=\"M0 0h24v24H0V0z\" fill=\"none\"/>\n",
              "    <path d=\"M18.56 5.44l.94 2.06.94-2.06 2.06-.94-2.06-.94-.94-2.06-.94 2.06-2.06.94zm-11 1L8.5 8.5l.94-2.06 2.06-.94-2.06-.94L8.5 2.5l-.94 2.06-2.06.94zm10 10l.94 2.06.94-2.06 2.06-.94-2.06-.94-.94-2.06-.94 2.06-2.06.94z\"/><path d=\"M17.41 7.96l-1.37-1.37c-.4-.4-.92-.59-1.43-.59-.52 0-1.04.2-1.43.59L10.3 9.45l-7.72 7.72c-.78.78-.78 2.05 0 2.83L4 21.41c.39.39.9.59 1.41.59.51 0 1.02-.2 1.41-.59l7.78-7.78 2.81-2.81c.8-.78.8-2.07 0-2.86zM5.41 20L4 18.59l7.72-7.72 1.47 1.35L5.41 20z\"/>\n",
              "  </svg>\n",
              "      </button>\n",
              "      \n",
              "  <style>\n",
              "    .colab-df-container {\n",
              "      display:flex;\n",
              "      flex-wrap:wrap;\n",
              "      gap: 12px;\n",
              "    }\n",
              "\n",
              "    .colab-df-convert {\n",
              "      background-color: #E8F0FE;\n",
              "      border: none;\n",
              "      border-radius: 50%;\n",
              "      cursor: pointer;\n",
              "      display: none;\n",
              "      fill: #1967D2;\n",
              "      height: 32px;\n",
              "      padding: 0 0 0 0;\n",
              "      width: 32px;\n",
              "    }\n",
              "\n",
              "    .colab-df-convert:hover {\n",
              "      background-color: #E2EBFA;\n",
              "      box-shadow: 0px 1px 2px rgba(60, 64, 67, 0.3), 0px 1px 3px 1px rgba(60, 64, 67, 0.15);\n",
              "      fill: #174EA6;\n",
              "    }\n",
              "\n",
              "    [theme=dark] .colab-df-convert {\n",
              "      background-color: #3B4455;\n",
              "      fill: #D2E3FC;\n",
              "    }\n",
              "\n",
              "    [theme=dark] .colab-df-convert:hover {\n",
              "      background-color: #434B5C;\n",
              "      box-shadow: 0px 1px 3px 1px rgba(0, 0, 0, 0.15);\n",
              "      filter: drop-shadow(0px 1px 2px rgba(0, 0, 0, 0.3));\n",
              "      fill: #FFFFFF;\n",
              "    }\n",
              "  </style>\n",
              "\n",
              "      <script>\n",
              "        const buttonEl =\n",
              "          document.querySelector('#df-0c835adc-f13e-46ea-b333-c06bf45ce277 button.colab-df-convert');\n",
              "        buttonEl.style.display =\n",
              "          google.colab.kernel.accessAllowed ? 'block' : 'none';\n",
              "\n",
              "        async function convertToInteractive(key) {\n",
              "          const element = document.querySelector('#df-0c835adc-f13e-46ea-b333-c06bf45ce277');\n",
              "          const dataTable =\n",
              "            await google.colab.kernel.invokeFunction('convertToInteractive',\n",
              "                                                     [key], {});\n",
              "          if (!dataTable) return;\n",
              "\n",
              "          const docLinkHtml = 'Like what you see? Visit the ' +\n",
              "            '<a target=\"_blank\" href=https://colab.research.google.com/notebooks/data_table.ipynb>data table notebook</a>'\n",
              "            + ' to learn more about interactive tables.';\n",
              "          element.innerHTML = '';\n",
              "          dataTable['output_type'] = 'display_data';\n",
              "          await google.colab.output.renderOutput(dataTable, element);\n",
              "          const docLink = document.createElement('div');\n",
              "          docLink.innerHTML = docLinkHtml;\n",
              "          element.appendChild(docLink);\n",
              "        }\n",
              "      </script>\n",
              "    </div>\n",
              "  </div>\n",
              "  "
            ]
          },
          "metadata": {}
        }
      ]
    },
    {
      "cell_type": "markdown",
      "source": [
        "## 2.1 Determine Number of Flights\n"
      ],
      "metadata": {
        "id": "zYHvmVKScv74"
      }
    },
    {
      "cell_type": "markdown",
      "source": [
        "### Creating an RDD"
      ],
      "metadata": {
        "id": "kiOLgL3DCP0O"
      }
    },
    {
      "cell_type": "code",
      "source": [
        "# converts the pandas dataframe to a spark dataframe\n",
        "spark_Passengers = spark.createDataFrame(passengerDF)\n",
        "\n",
        "# coverts spark to rdd\n",
        "rdd_Passengers = spark_Passengers.rdd\n",
        "\n",
        "# parallelizes the rdd\n",
        "dist_PassengersDF = sparkContext.parallelize(rdd_Passengers.collect(),10)"
      ],
      "metadata": {
        "id": "TXje540xCUJw"
      },
      "execution_count": 73,
      "outputs": []
    },
    {
      "cell_type": "markdown",
      "source": [
        "### Mapping function\n"
      ],
      "metadata": {
        "id": "QdV42Qw7zPz9"
      }
    },
    {
      "cell_type": "code",
      "source": [
        "# a function which counts deparetures\n",
        "def getName(x):\n",
        "\n",
        "  # stores the flights id and departing airport\n",
        "  flight_ID = x.__getitem__('flight_id')\n",
        "  dep = x.__getitem__('dep_airport')\n",
        "\n",
        "  # store information about airport\n",
        "  row = airportDF[airportDF['code'].str.contains(dep)]\n",
        "  \n",
        "  # returns flight IDs paired with airport name\n",
        "  return (flight_ID,row['airport_name'].iloc[0])"
      ],
      "metadata": {
        "id": "KryYMFIMzT5e"
      },
      "execution_count": 74,
      "outputs": []
    },
    {
      "cell_type": "markdown",
      "source": [
        "### MapReduce"
      ],
      "metadata": {
        "id": "wBXtS1nZzgGJ"
      }
    },
    {
      "cell_type": "code",
      "source": [
        "from collections import Counter\n",
        "\n",
        "# maps departing airports to flight IDs\n",
        "mapped_flights = dist_PassengersDF.map(getName)\n",
        "\n",
        "# reduces mapped output get a list of unique flights\n",
        "reduced_flights = mapped_flights.reduceByKey(lambda x,y : x).collect()\n",
        "\n",
        "# creates a list of airports from list of flights\n",
        "airports_list = []\n",
        "for i in reduced_flights:\n",
        "  airports_list.append(i[1])\n",
        "\n",
        "# counts occurence of each airport\n",
        "num_flights = Counter(airports_list)\n",
        "\n",
        "# outputs a list of unique airports\n",
        "for key,value in num_flights.items():\n",
        "  print(\"Airport: {}, Flights: {}\".format(key,value))\n",
        "\n",
        "\n",
        "# stores unused airports\n",
        "not_used = []\n",
        "\n",
        "# loops through list of airports\n",
        "for index, row in airportDF.iterrows():\n",
        "  # checks if airport is in list of used airports\n",
        "  if any(row[0] in sublist for sublist in reduced_flights) == False:\n",
        "    not_used.append(row[0])\n",
        "\n",
        "# prints unused airports in vertical list\n",
        "print(\"\\nAirports with no departures\")\n",
        "for i in range(len(not_used)):\n",
        "  print(not_used[i])"
      ],
      "metadata": {
        "id": "m24LdYapdFc3",
        "colab": {
          "base_uri": "https://localhost:8080/"
        },
        "outputId": "5ea0e633-3d6b-428f-8999-88bd564a6bff"
      },
      "execution_count": 82,
      "outputs": [
        {
          "output_type": "stream",
          "name": "stdout",
          "text": [
            "Airport: NEW YORK, Flights: 1\n",
            "Airport: TOKYO, Flights: 1\n",
            "Airport: DENVER, Flights: 3\n",
            "Airport: MUNICH, Flights: 1\n",
            "Airport: DALLAS/FORT WORTH, Flights: 1\n",
            "Airport: GUANGZHOU, Flights: 2\n",
            "Airport: HOUSTON, Flights: 2\n",
            "Airport: BANGKOK, Flights: 1\n",
            "Airport: MADRID, Flights: 1\n",
            "Airport: JAKARTA, Flights: 2\n",
            "Airport: CHARLOTTE, Flights: 1\n",
            "Airport: ATLANTA, Flights: 2\n",
            "Airport: PARIS, Flights: 1\n",
            "Airport: KUALA LUMPUR, Flights: 2\n",
            "Airport: SHANGHAI, Flights: 1\n",
            "Airport: ROME, Flights: 1\n",
            "Airport: LONDON, Flights: 1\n",
            "Airport: MIAMI, Flights: 1\n",
            "Airport: CHICAGO, Flights: 2\n",
            "Airport: LAS VEGAS, Flights: 1\n",
            "Airport: BEIJING, Flights: 1\n",
            "Airport: AMSTERDAM, Flights: 1\n",
            "\n",
            "Airports with no departures\n",
            "LOS ANGELES\n",
            "FRANKFURT\n",
            "HONG KONG\n",
            "DUBAI\n",
            "SINGAPORE\n",
            "SAN FRANCISCO\n",
            "PHOENIX\n",
            "ISTANBUL\n"
          ]
        }
      ]
    },
    {
      "cell_type": "markdown",
      "source": [
        "## 2.2 Flight List"
      ],
      "metadata": {
        "id": "p0_aETGA7q6Y"
      }
    },
    {
      "cell_type": "markdown",
      "source": [
        "### Mapping functions\n"
      ],
      "metadata": {
        "id": "QaorrudfEreU"
      }
    },
    {
      "cell_type": "code",
      "source": [
        "# A functiom which stores flight information for each passenger\n",
        "def getFlight (x):\n",
        "\n",
        "  # gets the departure information\n",
        "  dep = x.__getitem__('dep_airport')\n",
        "  dep_time = datetime.datetime.fromtimestamp(x.__getitem__('dep_time'))\n",
        "\n",
        "  # get the arrival information\n",
        "  arrive = x.__getitem__('dest_airport')\n",
        "  arrive_time = dep_time + timedelta(minutes = x.__getitem__('total_time'))\n",
        "\n",
        "  return (str(x.__getitem__('flight_id')), 1, dep, arrive, str(dep_time), str(arrive_time))"
      ],
      "metadata": {
        "id": "FBhBDEx9Et5r"
      },
      "execution_count": 76,
      "outputs": []
    },
    {
      "cell_type": "markdown",
      "source": [
        "### Reduce functions"
      ],
      "metadata": {
        "id": "Qwz1JnB5vAyk"
      }
    },
    {
      "cell_type": "code",
      "source": [
        "# a function handle tuples of flight information\n",
        "def reducer(x,y):\n",
        "\n",
        "  # converts tuple inputs to lists for indexing\n",
        "  y = list(y)\n",
        "  if type(x) != list:\n",
        "    x = [list(x)]\n",
        "\n",
        "  # checks for parrellised lists of lists\n",
        "  if type(y[0]) == list:\n",
        "\n",
        "    # loops through each individual flight record\n",
        "    for i in y:\n",
        "      # adds record to the list of flights\n",
        "      x = joiner(x,i)\n",
        "    return x\n",
        "\n",
        "  else:\n",
        "    # adds record to the list of flights\n",
        "    x = joiner(x,y)\n",
        "    return x\n",
        "\n",
        "\n",
        "# a function which gets the index for a flight\n",
        "def find_element(x, lst):\n",
        "    res = [(i, row.index(x)) for i, row in enumerate(lst) if x in row]\n",
        "    return res[0]\n",
        "\n",
        "# a function which combines flight information\n",
        "def joiner(x,y):\n",
        "  # checks if the current flight information if stored in the previous list\n",
        "  if any(y[0] in sublist for sublist in x):\n",
        "\n",
        "    # finds the index of the flight data\n",
        "    pos = find_element(y[0], x)\n",
        "\n",
        "    # increments number of passengers\n",
        "    x[pos[0]][1] = x[pos[0]][1] + y[1]\n",
        "    return x\n",
        "\n",
        "  else:\n",
        "    # adds new flight data to list\n",
        "    x.append(y)\n",
        "\n",
        "  return x\n"
      ],
      "metadata": {
        "id": "lQRkxRnpvGrQ"
      },
      "execution_count": 77,
      "outputs": []
    },
    {
      "cell_type": "markdown",
      "source": [
        "### MapReduce"
      ],
      "metadata": {
        "id": "2gS2X3owEuXT"
      }
    },
    {
      "cell_type": "code",
      "source": [
        "# maps flight IDs to flight information\n",
        "mapped_IDs = dist_PassengersDF.map(getFlight)\n",
        "\n",
        "# reduces mapped output to calculate amount of passengers on each flight\n",
        "reduced_IDs = mapped_IDs.reduce(reducer)\n",
        "\n",
        "\n",
        "# prints list of flight information\n",
        "for i in reduced_IDs:\n",
        "  print(\"Flight Code: {}, Passengers: {}, Departing: {} - {}, Destination: {} - {}\".format(i[0], i[1], i[2], i[4], i[3], i[5]))"
      ],
      "metadata": {
        "colab": {
          "base_uri": "https://localhost:8080/"
        },
        "id": "m4WMGYdk9_fs",
        "outputId": "a9be9e5f-04f3-4ef1-f850-6314b7b8f4e4"
      },
      "execution_count": 78,
      "outputs": [
        {
          "output_type": "stream",
          "name": "stdout",
          "text": [
            "Flight Code: SQU6245R, Passengers: 21, Departing: DEN - 2015-01-06 17:14:20, Destination: FRA - 2015-01-07 10:43:20\n",
            "Flight Code: XXQ4064B, Passengers: 25, Departing: JFK - 2015-01-06 17:05:17, Destination: FRA - 2015-01-07 06:27:17\n",
            "Flight Code: SOH3431A, Passengers: 18, Departing: ORD - 2015-01-06 17:00:49, Destination: MIA - 2015-01-06 21:10:49\n",
            "Flight Code: PME8178S, Passengers: 18, Departing: DEN - 2015-01-06 17:13:29, Destination: PEK - 2015-01-07 15:15:29\n",
            "Flight Code: MBA8071P, Passengers: 16, Departing: KUL - 2015-01-06 17:04:16, Destination: PEK - 2015-01-07 02:36:16\n",
            "Flight Code: MOO1786A, Passengers: 13, Departing: MAD - 2015-01-06 16:56:48, Destination: FRA - 2015-01-06 20:00:48\n",
            "Flight Code: HUR0974O, Passengers: 7, Departing: DEN - 2015-01-06 17:15:25, Destination: PVG - 2015-01-07 16:33:25\n",
            "Flight Code: GMO5938W, Passengers: 25, Departing: LHR - 2015-01-06 17:11:57, Destination: PEK - 2015-01-07 10:48:57\n",
            "Flight Code: DAU2617A, Passengers: 12, Departing: CGK - 2015-01-06 17:23:06, Destination: SFO - 2015-01-07 23:34:06\n",
            "Flight Code: RUM0422W, Passengers: 14, Departing: MUC - 2015-01-06 16:58:59, Destination: MAD - 2015-01-06 20:12:59\n",
            "Flight Code: ATT7791R, Passengers: 15, Departing: AMS - 2015-01-06 17:13:14, Destination: DEN - 2015-01-07 09:54:14\n",
            "Flight Code: WPW9201U, Passengers: 11, Departing: DFW - 2015-01-06 17:21:09, Destination: PEK - 2015-01-07 17:33:09\n",
            "Flight Code: DKZ3042O, Passengers: 11, Departing: MIA - 2015-01-06 17:05:27, Destination: SFO - 2015-01-07 02:03:27\n",
            "Flight Code: QHU1140O, Passengers: 21, Departing: CDG - 2015-01-06 17:14:58, Destination: LAS - 2015-01-07 12:07:58\n",
            "Flight Code: ULZ8130D, Passengers: 27, Departing: CAN - 2015-01-06 17:23:03, Destination: DFW - 2015-01-07 21:26:03\n",
            "Flight Code: VYU9214I, Passengers: 15, Departing: ORD - 2015-01-06 17:18:36, Destination: DXB - 2015-01-07 18:28:36\n",
            "Flight Code: HZT2506M, Passengers: 14, Departing: IAH - 2015-01-06 17:12:04, Destination: AMS - 2015-01-07 10:36:04\n",
            "Flight Code: EWH6301Y, Passengers: 10, Departing: CAN - 2015-01-06 17:22:47, Destination: DFW - 2015-01-07 21:25:47\n",
            "Flight Code: VYW5940P, Passengers: 17, Departing: LAS - 2015-01-06 17:26:43, Destination: SIN - 2015-01-08 00:09:43\n",
            "Flight Code: WSK1289Z, Passengers: 21, Departing: CLT - 2015-01-06 16:59:02, Destination: DEN - 2015-01-06 21:37:02\n",
            "Flight Code: TMV7633W, Passengers: 15, Departing: CGK - 2015-01-06 17:05:58, Destination: DXB - 2015-01-07 07:14:58\n",
            "Flight Code: FYL5866L, Passengers: 20, Departing: ATL - 2015-01-06 17:25:40, Destination: HKG - 2015-01-07 22:36:40\n",
            "Flight Code: BER7172M, Passengers: 17, Departing: KUL - 2015-01-06 17:26:07, Destination: LAS - 2015-01-08 00:14:07\n",
            "Flight Code: JVY9791G, Passengers: 20, Departing: PVG - 2015-01-06 17:16:01, Destination: FCO - 2015-01-07 13:05:01\n",
            "Flight Code: VDC9164W, Passengers: 15, Departing: FCO - 2015-01-06 17:18:18, Destination: LAS - 2015-01-07 14:34:18\n",
            "Flight Code: KJR6646J, Passengers: 23, Departing: IAH - 2015-01-06 17:26:43, Destination: BKK - 2015-01-08 01:34:43\n",
            "Flight Code: YZO4444S, Passengers: 17, Departing: BKK - 2015-01-06 17:28:50, Destination: MIA - 2015-01-08 03:15:50\n",
            "Flight Code: XIL3623J, Passengers: 13, Departing: PEK - 2015-01-06 17:13:34, Destination: LAX - 2015-01-07 14:55:34\n",
            "Flight Code: RPG3351U, Passengers: 13, Departing: HND - 2015-01-06 16:59:29, Destination: CAN - 2015-01-06 23:13:29\n",
            "Flight Code: XOY7948U, Passengers: 16, Departing: ATL - 2015-01-06 17:07:18, Destination: LHR - 2015-01-07 07:44:18\n"
          ]
        }
      ]
    },
    {
      "cell_type": "markdown",
      "source": [
        "## 2.3 Air Miles\n"
      ],
      "metadata": {
        "id": "xy7blsh4Lx4V"
      }
    },
    {
      "cell_type": "markdown",
      "source": [
        "### Map Function"
      ],
      "metadata": {
        "id": "cGXGSiadZ_6Y"
      }
    },
    {
      "cell_type": "code",
      "source": [
        "# a function which maps the passenger ID to the nautical miles of a flight\n",
        "def getMiles(x):\n",
        "\n",
        "  # gets the passengers id and relavant IATA/FAA codes\n",
        "  pass_ID = x.__getitem__('passenger_id')\n",
        "  dep = x.__getitem__('dep_airport')\n",
        "  dest = x.__getitem__('dest_airport')\n",
        "\n",
        "  # gets the coordinates for each airport\n",
        "  dep_lat,dep_lon = getCoords(dep)\n",
        "  dest_lat,dest_lon = getCoords(dest)\n",
        "\n",
        "  # calcualtes distance between airports in miles\n",
        "  miles = haversine(dep_lat,dep_lon,dest_lat,dest_lon)\n",
        "  return(pass_ID, miles)\n",
        "\n",
        "# a function which returns the location of an airport\n",
        "def getCoords(code):\n",
        "  # fetches airports location\n",
        "  row = airportDF[airportDF['code'].str.contains(code)]\n",
        "  lat = row['lat'].iloc[0]\n",
        "  lon = row['long'].iloc[0]\n",
        "  return lat, lon\n",
        "\n",
        "\n",
        "######################################################\n",
        "# This function was taken from an external souce which can be found at the link below:\n",
        "# https://www.geeksforgeeks.org/haversine-formula-to-find-distance-between-two-points-on-a-sphere/\n",
        "\n",
        "# a function used to calculate the distance betweeen two locations\n",
        "def haversine(lat1, lon1, lat2, lon2):\n",
        "     \n",
        "  # distance between latitudes\n",
        "  # and longitudes\n",
        "  dLat = (lat2 - lat1) * math.pi / 180.0\n",
        "  dLon = (lon2 - lon1) * math.pi / 180.0\n",
        " \n",
        "  # convert to radians\n",
        "  lat1 = (lat1) * math.pi / 180.0\n",
        "  lat2 = (lat2) * math.pi / 180.0\n",
        " \n",
        "  # apply formulae\n",
        "  a = (pow(math.sin(dLat / 2), 2) + pow(math.sin(dLon / 2), 2) * math.cos(lat1) * math.cos(lat2))\n",
        "  rad = 6371\n",
        "  c = 2 * math.asin(math.sqrt(a))\n",
        "  return (rad * c) * 0.621371"
      ],
      "metadata": {
        "id": "zjzk2g6NaDEw"
      },
      "execution_count": 85,
      "outputs": []
    },
    {
      "cell_type": "markdown",
      "source": [
        "### MapReduce"
      ],
      "metadata": {
        "id": "cSLH19Wts6gs"
      }
    },
    {
      "cell_type": "code",
      "source": [
        "# maps passengers to miles per each flight\n",
        "mapped_miles = dist_PassengersDF.map(getMiles)\n",
        "\n",
        "# reduces mapped output to calculate amount of miles per passenger\n",
        "reduced_miles = mapped_miles.reduceByKey(lambda x,y : x+y).collect()\n",
        "\n",
        "# sorts output by passengers with the highest miles\n",
        "reduced_miles.sort(reverse=True,key = lambda x: x[1])\n",
        "\n",
        "# prints used airports in a vertical list\n",
        "print(\"Passenger Air Miles:\")\n",
        "for i in range(len(reduced_miles)):\n",
        "  print(\"PassengerID: {}, Nautical Miles: {}\".format(reduced_miles[i][0],reduced_miles[i][1]))"
      ],
      "metadata": {
        "colab": {
          "base_uri": "https://localhost:8080/"
        },
        "id": "9lFCOEuzL1A4",
        "outputId": "0cd4b73c-ec51-4fa4-c866-ab3716733c69"
      },
      "execution_count": 87,
      "outputs": [
        {
          "output_type": "stream",
          "name": "stdout",
          "text": [
            "Passenger Air Miles:\n",
            "PassengerID: UES9151GS5, Nautical Miles: 151763.18251262573\n",
            "PassengerID: BWI0520BG6, Nautical Miles: 143545.01442597815\n",
            "PassengerID: DAZ3029XA0, Nautical Miles: 141641.24645366738\n",
            "PassengerID: SPR4484HA6, Nautical Miles: 140692.05553430595\n",
            "PassengerID: PUD8209OG3, Nautical Miles: 133274.7719109132\n",
            "PassengerID: WBE6935NU3, Nautical Miles: 114110.39602287057\n",
            "PassengerID: HCA3158QA6, Nautical Miles: 111618.2004400387\n",
            "PassengerID: WYU2010YH8, Nautical Miles: 111321.60008596993\n",
            "PassengerID: JJM4724RF7, Nautical Miles: 107071.54069130117\n",
            "PassengerID: CKZ3132BR4, Nautical Miles: 106710.11756484494\n",
            "PassengerID: EZC9678QI6, Nautical Miles: 102787.08230615372\n",
            "PassengerID: LLZ3798PE3, Nautical Miles: 96775.99542169354\n",
            "PassengerID: HGO4350KK1, Nautical Miles: 94129.12215077925\n",
            "PassengerID: POP2875LH3, Nautical Miles: 93249.46713381329\n",
            "PassengerID: CXN7304ER2, Nautical Miles: 90617.10661535157\n",
            "PassengerID: YMH6360YP0, Nautical Miles: 87755.92057701477\n",
            "PassengerID: VZY2993ME1, Nautical Miles: 84801.13260568153\n",
            "PassengerID: EDV2089LK5, Nautical Miles: 81050.25397934527\n",
            "PassengerID: JBE2302VO4, Nautical Miles: 79406.57152388158\n",
            "PassengerID: SJD8775RZ4, Nautical Miles: 77621.02310582976\n",
            "PassengerID: XFG5747ZT9, Nautical Miles: 76435.25666462013\n",
            "PassengerID: CDC0302NN5, Nautical Miles: 72628.9775491088\n",
            "PassengerID: MXU9187YC7, Nautical Miles: 70243.8338801244\n",
            "PassengerID: WTC9125IE5, Nautical Miles: 68598.50619863202\n",
            "PassengerID: KKP5277HZ7, Nautical Miles: 67384.92045493054\n",
            "PassengerID: ONL0812DH1, Nautical Miles: 62402.37667039591\n",
            "PassengerID: CYJ0225CH1, Nautical Miles: 62363.22468305758\n",
            "PassengerID: IEG9308EA5, Nautical Miles: 48350.71539282361\n",
            "PassengerID: PIT2755XC1, Nautical Miles: 41516.084241974735\n",
            "PassengerID: PAJ3974RK1, Nautical Miles: 39390.294347121686\n",
            "PassengerID: UMH6360YP0, Nautical Miles: 3845.0284896225417\n"
          ]
        }
      ]
    }
  ]
}